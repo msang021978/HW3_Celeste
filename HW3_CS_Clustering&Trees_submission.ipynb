{
 "cells": [
  {
   "cell_type": "markdown",
   "metadata": {},
   "source": [
    "# Homework #3: Clustering and Trees\n",
    "\n",
    "* This specific response to assignment uses the student's credit card transaction data over the last 24 months, before the reality of owning a mortgage kicked-in. \n",
    "* The dataset reveals sensitive information so exposure of all rows have been sparingly done, if at all.\n",
    "* The dataset has been manipulated to reveal high-level location info e.g. Australia vs overseas; and the type of expense e.g. Utility, Education, Retail Shopping.\n",
    "* As the most unpredictable of all expense types falls under RETAIL SHOPPING, transactions that fall under this category have been filtered and used for a number of models discussed in this submission, to reveal the factors, if any, that drive the subject's RETAIL SHOPPING habit."
   ]
  },
  {
   "cell_type": "markdown",
   "metadata": {},
   "source": [
    "## Part1. Data Acquisition and Wrangling"
   ]
  },
  {
   "cell_type": "code",
   "execution_count": 1,
   "metadata": {
    "collapsed": false
   },
   "outputs": [],
   "source": [
    "# Import the libraries needed\n",
    "import sklearn.linear_model\n",
    "import pandas\n",
    "import matplotlib.pyplot"
   ]
  },
  {
   "cell_type": "code",
   "execution_count": 2,
   "metadata": {
    "collapsed": false
   },
   "outputs": [
    {
     "data": {
      "text/html": [
       "<div>\n",
       "<table border=\"1\" class=\"dataframe\">\n",
       "  <thead>\n",
       "    <tr style=\"text-align: right;\">\n",
       "      <th></th>\n",
       "      <th>DATE</th>\n",
       "      <th>AMOUNT</th>\n",
       "      <th>DESC</th>\n",
       "      <th>CATEGORY</th>\n",
       "      <th>LOCATION</th>\n",
       "    </tr>\n",
       "    <tr>\n",
       "      <th>#</th>\n",
       "      <th></th>\n",
       "      <th></th>\n",
       "      <th></th>\n",
       "      <th></th>\n",
       "      <th></th>\n",
       "    </tr>\n",
       "  </thead>\n",
       "  <tbody>\n",
       "    <tr>\n",
       "      <th>1105</th>\n",
       "      <td>11/11/2015</td>\n",
       "      <td>-22.0</td>\n",
       "      <td>200 RTA INTERNET /IVR    SURRY HILLS</td>\n",
       "      <td>CAR</td>\n",
       "      <td>AUSTRALIA</td>\n",
       "    </tr>\n",
       "    <tr>\n",
       "      <th>1409</th>\n",
       "      <td>16/06/2015</td>\n",
       "      <td>-147.0</td>\n",
       "      <td>200 RTA INTERNET /IVR    SURRY HILLS</td>\n",
       "      <td>CAR</td>\n",
       "      <td>AUSTRALIA</td>\n",
       "    </tr>\n",
       "    <tr>\n",
       "      <th>479</th>\n",
       "      <td>27/07/2016</td>\n",
       "      <td>-778.0</td>\n",
       "      <td>2NDS WORLD               AUBURN      NSW</td>\n",
       "      <td>HOME</td>\n",
       "      <td>AUSTRALIA</td>\n",
       "    </tr>\n",
       "  </tbody>\n",
       "</table>\n",
       "</div>"
      ],
      "text/plain": [
       "            DATE  AMOUNT                                      DESC CATEGORY  \\\n",
       "#                                                                             \n",
       "1105  11/11/2015   -22.0      200 RTA INTERNET /IVR    SURRY HILLS      CAR   \n",
       "1409  16/06/2015  -147.0      200 RTA INTERNET /IVR    SURRY HILLS      CAR   \n",
       "479   27/07/2016  -778.0  2NDS WORLD               AUBURN      NSW     HOME   \n",
       "\n",
       "       LOCATION  \n",
       "#                \n",
       "1105  AUSTRALIA  \n",
       "1409  AUSTRALIA  \n",
       "479   AUSTRALIA  "
      ]
     },
     "execution_count": 2,
     "metadata": {},
     "output_type": "execute_result"
    }
   ],
   "source": [
    "#Inhale the credit card transaction log.\n",
    "cardtrans = pandas.read_csv('C:\\Users\\Celeste\\Desktop\\GA Data Science\\SYD_DAT_7\\HW2_Celeste\\data\\All_Credit_Card_Log_01Mar2015_27Feb2017.csv', index_col=0)\n",
    "cardtrans.head(3)"
   ]
  },
  {
   "cell_type": "code",
   "execution_count": 3,
   "metadata": {
    "collapsed": false
   },
   "outputs": [
    {
     "data": {
      "text/plain": [
       "DATE        1650\n",
       "AMOUNT      1650\n",
       "DESC        1650\n",
       "CATEGORY    1650\n",
       "LOCATION    1650\n",
       "dtype: int64"
      ]
     },
     "execution_count": 3,
     "metadata": {},
     "output_type": "execute_result"
    }
   ],
   "source": [
    "cardtrans.count()"
   ]
  },
  {
   "cell_type": "code",
   "execution_count": 4,
   "metadata": {
    "collapsed": false
   },
   "outputs": [
    {
     "data": {
      "text/html": [
       "<div>\n",
       "<table border=\"1\" class=\"dataframe\">\n",
       "  <thead>\n",
       "    <tr style=\"text-align: right;\">\n",
       "      <th></th>\n",
       "      <th>DATE</th>\n",
       "      <th>AMOUNT</th>\n",
       "      <th>DESC</th>\n",
       "      <th>CATEGORY</th>\n",
       "      <th>LOCATION</th>\n",
       "    </tr>\n",
       "    <tr>\n",
       "      <th>#</th>\n",
       "      <th></th>\n",
       "      <th></th>\n",
       "      <th></th>\n",
       "      <th></th>\n",
       "      <th></th>\n",
       "    </tr>\n",
       "  </thead>\n",
       "  <tbody>\n",
       "    <tr>\n",
       "      <th>1105</th>\n",
       "      <td>11/11/2015</td>\n",
       "      <td>-22.0</td>\n",
       "      <td>200 RTA INTERNET /IVR    SURRY HILLS</td>\n",
       "      <td>CAR</td>\n",
       "      <td>AUSTRALIA</td>\n",
       "    </tr>\n",
       "    <tr>\n",
       "      <th>1409</th>\n",
       "      <td>16/06/2015</td>\n",
       "      <td>-147.0</td>\n",
       "      <td>200 RTA INTERNET /IVR    SURRY HILLS</td>\n",
       "      <td>CAR</td>\n",
       "      <td>AUSTRALIA</td>\n",
       "    </tr>\n",
       "    <tr>\n",
       "      <th>479</th>\n",
       "      <td>27/07/2016</td>\n",
       "      <td>-778.0</td>\n",
       "      <td>2NDS WORLD               AUBURN      NSW</td>\n",
       "      <td>HOME</td>\n",
       "      <td>AUSTRALIA</td>\n",
       "    </tr>\n",
       "  </tbody>\n",
       "</table>\n",
       "</div>"
      ],
      "text/plain": [
       "            DATE  AMOUNT                                      DESC CATEGORY  \\\n",
       "#                                                                             \n",
       "1105  11/11/2015   -22.0      200 RTA INTERNET /IVR    SURRY HILLS      CAR   \n",
       "1409  16/06/2015  -147.0      200 RTA INTERNET /IVR    SURRY HILLS      CAR   \n",
       "479   27/07/2016  -778.0  2NDS WORLD               AUBURN      NSW     HOME   \n",
       "\n",
       "       LOCATION  \n",
       "#                \n",
       "1105  AUSTRALIA  \n",
       "1409  AUSTRALIA  \n",
       "479   AUSTRALIA  "
      ]
     },
     "execution_count": 4,
     "metadata": {},
     "output_type": "execute_result"
    }
   ],
   "source": [
    "# Get rid of DEBIT transactions such as Credit Card Bills Payment and Shopping Refunds\n",
    "# Aim: To ensure data is strictly about EXPENDITURE, excluding Refund or Card Payments.\n",
    "cardtrans = cardtrans[cardtrans.AMOUNT <= 0]\n",
    "cardtrans.head(3)"
   ]
  },
  {
   "cell_type": "code",
   "execution_count": 5,
   "metadata": {
    "collapsed": false
   },
   "outputs": [
    {
     "data": {
      "text/plain": [
       "DATE         object\n",
       "AMOUNT      float64\n",
       "DESC         object\n",
       "CATEGORY     object\n",
       "LOCATION     object\n",
       "dtype: object"
      ]
     },
     "execution_count": 5,
     "metadata": {},
     "output_type": "execute_result"
    }
   ],
   "source": [
    "cardtrans.dtypes"
   ]
  },
  {
   "cell_type": "code",
   "execution_count": 6,
   "metadata": {
    "collapsed": false
   },
   "outputs": [
    {
     "data": {
      "text/html": [
       "<div>\n",
       "<table border=\"1\" class=\"dataframe\">\n",
       "  <thead>\n",
       "    <tr style=\"text-align: right;\">\n",
       "      <th></th>\n",
       "      <th>DATE</th>\n",
       "      <th>AMOUNT</th>\n",
       "      <th>DESC</th>\n",
       "      <th>CATEGORY</th>\n",
       "      <th>LOCATION</th>\n",
       "    </tr>\n",
       "    <tr>\n",
       "      <th>#</th>\n",
       "      <th></th>\n",
       "      <th></th>\n",
       "      <th></th>\n",
       "      <th></th>\n",
       "      <th></th>\n",
       "    </tr>\n",
       "  </thead>\n",
       "  <tbody>\n",
       "    <tr>\n",
       "      <th>1105</th>\n",
       "      <td>2015-11-11</td>\n",
       "      <td>-22.0</td>\n",
       "      <td>200 RTA INTERNET /IVR    SURRY HILLS</td>\n",
       "      <td>CAR</td>\n",
       "      <td>AUSTRALIA</td>\n",
       "    </tr>\n",
       "    <tr>\n",
       "      <th>1409</th>\n",
       "      <td>2015-06-16</td>\n",
       "      <td>-147.0</td>\n",
       "      <td>200 RTA INTERNET /IVR    SURRY HILLS</td>\n",
       "      <td>CAR</td>\n",
       "      <td>AUSTRALIA</td>\n",
       "    </tr>\n",
       "    <tr>\n",
       "      <th>479</th>\n",
       "      <td>2016-07-27</td>\n",
       "      <td>-778.0</td>\n",
       "      <td>2NDS WORLD               AUBURN      NSW</td>\n",
       "      <td>HOME</td>\n",
       "      <td>AUSTRALIA</td>\n",
       "    </tr>\n",
       "  </tbody>\n",
       "</table>\n",
       "</div>"
      ],
      "text/plain": [
       "           DATE  AMOUNT                                      DESC CATEGORY  \\\n",
       "#                                                                            \n",
       "1105 2015-11-11   -22.0      200 RTA INTERNET /IVR    SURRY HILLS      CAR   \n",
       "1409 2015-06-16  -147.0      200 RTA INTERNET /IVR    SURRY HILLS      CAR   \n",
       "479  2016-07-27  -778.0  2NDS WORLD               AUBURN      NSW     HOME   \n",
       "\n",
       "       LOCATION  \n",
       "#                \n",
       "1105  AUSTRALIA  \n",
       "1409  AUSTRALIA  \n",
       "479   AUSTRALIA  "
      ]
     },
     "execution_count": 6,
     "metadata": {},
     "output_type": "execute_result"
    }
   ],
   "source": [
    "# oops, need to deal with incorrect data types\n",
    "cardtrans['DATE'] = pandas.to_datetime(cardtrans['DATE'])\n",
    "cardtrans.head(3)"
   ]
  },
  {
   "cell_type": "code",
   "execution_count": 7,
   "metadata": {
    "collapsed": false
   },
   "outputs": [
    {
     "data": {
      "text/plain": [
       "DATE        datetime64[ns]\n",
       "AMOUNT             float64\n",
       "DESC                object\n",
       "CATEGORY            object\n",
       "LOCATION            object\n",
       "dtype: object"
      ]
     },
     "execution_count": 7,
     "metadata": {},
     "output_type": "execute_result"
    }
   ],
   "source": [
    "cardtrans.dtypes"
   ]
  },
  {
   "cell_type": "code",
   "execution_count": 8,
   "metadata": {
    "collapsed": false
   },
   "outputs": [],
   "source": [
    "# Add a new column to reflect absolute value of Amount Spent\n",
    "cardtrans['ABS_AMOUNT'] = cardtrans.AMOUNT * -1.00"
   ]
  },
  {
   "cell_type": "code",
   "execution_count": 9,
   "metadata": {
    "collapsed": false
   },
   "outputs": [
    {
     "data": {
      "text/html": [
       "<div>\n",
       "<table border=\"1\" class=\"dataframe\">\n",
       "  <thead>\n",
       "    <tr style=\"text-align: right;\">\n",
       "      <th></th>\n",
       "      <th>AMOUNT</th>\n",
       "      <th>ABS_AMOUNT</th>\n",
       "    </tr>\n",
       "  </thead>\n",
       "  <tbody>\n",
       "    <tr>\n",
       "      <th>count</th>\n",
       "      <td>1571.000000</td>\n",
       "      <td>1571.000000</td>\n",
       "    </tr>\n",
       "    <tr>\n",
       "      <th>mean</th>\n",
       "      <td>-53.470707</td>\n",
       "      <td>53.470707</td>\n",
       "    </tr>\n",
       "    <tr>\n",
       "      <th>std</th>\n",
       "      <td>155.841402</td>\n",
       "      <td>155.841402</td>\n",
       "    </tr>\n",
       "    <tr>\n",
       "      <th>min</th>\n",
       "      <td>-3075.280000</td>\n",
       "      <td>0.240000</td>\n",
       "    </tr>\n",
       "    <tr>\n",
       "      <th>25%</th>\n",
       "      <td>-49.475000</td>\n",
       "      <td>8.500000</td>\n",
       "    </tr>\n",
       "    <tr>\n",
       "      <th>50%</th>\n",
       "      <td>-20.000000</td>\n",
       "      <td>20.000000</td>\n",
       "    </tr>\n",
       "    <tr>\n",
       "      <th>75%</th>\n",
       "      <td>-8.500000</td>\n",
       "      <td>49.475000</td>\n",
       "    </tr>\n",
       "    <tr>\n",
       "      <th>max</th>\n",
       "      <td>-0.240000</td>\n",
       "      <td>3075.280000</td>\n",
       "    </tr>\n",
       "  </tbody>\n",
       "</table>\n",
       "</div>"
      ],
      "text/plain": [
       "            AMOUNT   ABS_AMOUNT\n",
       "count  1571.000000  1571.000000\n",
       "mean    -53.470707    53.470707\n",
       "std     155.841402   155.841402\n",
       "min   -3075.280000     0.240000\n",
       "25%     -49.475000     8.500000\n",
       "50%     -20.000000    20.000000\n",
       "75%      -8.500000    49.475000\n",
       "max      -0.240000  3075.280000"
      ]
     },
     "execution_count": 9,
     "metadata": {},
     "output_type": "execute_result"
    }
   ],
   "source": [
    "cardtrans.describe()"
   ]
  },
  {
   "cell_type": "code",
   "execution_count": 10,
   "metadata": {
    "collapsed": false
   },
   "outputs": [
    {
     "data": {
      "text/html": [
       "<div>\n",
       "<table border=\"1\" class=\"dataframe\">\n",
       "  <thead>\n",
       "    <tr style=\"text-align: right;\">\n",
       "      <th></th>\n",
       "      <th>AMOUNT</th>\n",
       "      <th>ABS_AMOUNT</th>\n",
       "    </tr>\n",
       "  </thead>\n",
       "  <tbody>\n",
       "    <tr>\n",
       "      <th>count</th>\n",
       "      <td>248.000000</td>\n",
       "      <td>248.000000</td>\n",
       "    </tr>\n",
       "    <tr>\n",
       "      <th>mean</th>\n",
       "      <td>-71.558468</td>\n",
       "      <td>71.558468</td>\n",
       "    </tr>\n",
       "    <tr>\n",
       "      <th>std</th>\n",
       "      <td>127.445651</td>\n",
       "      <td>127.445651</td>\n",
       "    </tr>\n",
       "    <tr>\n",
       "      <th>min</th>\n",
       "      <td>-1167.110000</td>\n",
       "      <td>2.000000</td>\n",
       "    </tr>\n",
       "    <tr>\n",
       "      <th>25%</th>\n",
       "      <td>-72.470000</td>\n",
       "      <td>18.367500</td>\n",
       "    </tr>\n",
       "    <tr>\n",
       "      <th>50%</th>\n",
       "      <td>-34.180000</td>\n",
       "      <td>34.180000</td>\n",
       "    </tr>\n",
       "    <tr>\n",
       "      <th>75%</th>\n",
       "      <td>-18.367500</td>\n",
       "      <td>72.470000</td>\n",
       "    </tr>\n",
       "    <tr>\n",
       "      <th>max</th>\n",
       "      <td>-2.000000</td>\n",
       "      <td>1167.110000</td>\n",
       "    </tr>\n",
       "  </tbody>\n",
       "</table>\n",
       "</div>"
      ],
      "text/plain": [
       "            AMOUNT   ABS_AMOUNT\n",
       "count   248.000000   248.000000\n",
       "mean    -71.558468    71.558468\n",
       "std     127.445651   127.445651\n",
       "min   -1167.110000     2.000000\n",
       "25%     -72.470000    18.367500\n",
       "50%     -34.180000    34.180000\n",
       "75%     -18.367500    72.470000\n",
       "max      -2.000000  1167.110000"
      ]
     },
     "execution_count": 10,
     "metadata": {},
     "output_type": "execute_result"
    }
   ],
   "source": [
    "#Include retail shopping only, exclude : regular bills, annual fee, international transaction fee, utility\n",
    "retail_trans = cardtrans[(cardtrans.CATEGORY=='RETAIL')]\n",
    "retail_trans = retail_trans[retail_trans.DESC!='ANNUAL FEE']\n",
    "retail_trans = retail_trans[retail_trans.DESC!='INTNL TRANSACTION FEE']\n",
    "retail_trans.describe()\n"
   ]
  },
  {
   "cell_type": "code",
   "execution_count": 11,
   "metadata": {
    "collapsed": false
   },
   "outputs": [
    {
     "data": {
      "text/plain": [
       "array(['JAPAN', 'AUSTRALIA', 'AUSTRALIA-MELBOURNE', 'VIETNAM',\n",
       "       'AUSTRALIA-BLUE MTNS', 'AUSTRALIA-ECHUCA'], dtype=object)"
      ]
     },
     "execution_count": 11,
     "metadata": {},
     "output_type": "execute_result"
    }
   ],
   "source": [
    "retail_trans.LOCATION.unique()"
   ]
  },
  {
   "cell_type": "code",
   "execution_count": 12,
   "metadata": {
    "collapsed": false
   },
   "outputs": [
    {
     "data": {
      "text/plain": [
       "AUSTRALIA              181\n",
       "JAPAN                   59\n",
       "AUSTRALIA-BLUE MTNS      4\n",
       "VIETNAM                  2\n",
       "AUSTRALIA-MELBOURNE      1\n",
       "AUSTRALIA-ECHUCA         1\n",
       "Name: LOCATION, dtype: int64"
      ]
     },
     "execution_count": 12,
     "metadata": {},
     "output_type": "execute_result"
    }
   ],
   "source": [
    "#Transaction Distribution by LOCATION\n",
    "retail_trans.LOCATION.value_counts()"
   ]
  },
  {
   "cell_type": "code",
   "execution_count": 13,
   "metadata": {
    "collapsed": false
   },
   "outputs": [
    {
     "data": {
      "text/plain": [
       "RETAIL    248\n",
       "Name: CATEGORY, dtype: int64"
      ]
     },
     "execution_count": 13,
     "metadata": {},
     "output_type": "execute_result"
    }
   ],
   "source": [
    "#Transaction Distribution by CATEGORY\n",
    "retail_trans.CATEGORY.value_counts()"
   ]
  },
  {
   "cell_type": "code",
   "execution_count": 14,
   "metadata": {
    "collapsed": false
   },
   "outputs": [
    {
     "data": {
      "text/plain": [
       "{'AUSTRALIA': 0,\n",
       " 'AUSTRALIA-BENDIGO': 1,\n",
       " 'AUSTRALIA-BLUE MTNS': 1,\n",
       " 'AUSTRALIA-ECHUCA': 1,\n",
       " 'AUSTRALIA-MELBOURNE': 1,\n",
       " 'AUSTRALIA-PORT DOUGLAS': 1,\n",
       " 'AUSTRALIA-SUNSHINE COAST': 1,\n",
       " 'JAPAN': 2,\n",
       " 'VIETNAM': 2}"
      ]
     },
     "execution_count": 14,
     "metadata": {},
     "output_type": "execute_result"
    }
   ],
   "source": [
    "# Define dictionary for Holiday Flag, set to:\n",
    "    # 2 if location is a INTERNATIONAL HOLIDAY LOCATION\n",
    "    # 1 if location is a DOMESTIC HOLIDAY LOCATION\n",
    "    # 0 if NON-HOLIDAY.\n",
    "hols_dict ={'AUSTRALIA':0,'VIETNAM':2, 'AUSTRALIA-PORT DOUGLAS':1,\n",
    "           'AUSTRALIA-BLUE MTNS':1, 'AUSTRALIA-ECHUCA':1, 'AUSTRALIA-MELBOURNE':1,\n",
    "           'AUSTRALIA-BENDIGO':1, 'JAPAN':2, 'AUSTRALIA-SUNSHINE COAST':1 }\n",
    "hols_dict"
   ]
  },
  {
   "cell_type": "code",
   "execution_count": 15,
   "metadata": {
    "collapsed": false
   },
   "outputs": [
    {
     "data": {
      "text/plain": [
       "0    181\n",
       "2     61\n",
       "1      6\n",
       "Name: HOLIDAY_FLAG, dtype: int64"
      ]
     },
     "execution_count": 15,
     "metadata": {},
     "output_type": "execute_result"
    }
   ],
   "source": [
    "# Create a new column in the \"cardtrans\" data frame calling cardtrans.LOCATION.map() with \n",
    "# my hols_dict dictionary as an argument\n",
    "retail_trans['HOLIDAY_FLAG'] = retail_trans.LOCATION.map(hols_dict.get)\n",
    "retail_trans.HOLIDAY_FLAG.value_counts()"
   ]
  },
  {
   "cell_type": "code",
   "execution_count": 16,
   "metadata": {
    "collapsed": false
   },
   "outputs": [
    {
     "data": {
      "text/html": [
       "<div>\n",
       "<table border=\"1\" class=\"dataframe\">\n",
       "  <thead>\n",
       "    <tr style=\"text-align: right;\">\n",
       "      <th></th>\n",
       "      <th>DATE</th>\n",
       "      <th>AMOUNT</th>\n",
       "      <th>DESC</th>\n",
       "      <th>CATEGORY</th>\n",
       "      <th>LOCATION</th>\n",
       "      <th>ABS_AMOUNT</th>\n",
       "      <th>HOLIDAY_FLAG</th>\n",
       "    </tr>\n",
       "    <tr>\n",
       "      <th>#</th>\n",
       "      <th></th>\n",
       "      <th></th>\n",
       "      <th></th>\n",
       "      <th></th>\n",
       "      <th></th>\n",
       "      <th></th>\n",
       "      <th></th>\n",
       "    </tr>\n",
       "  </thead>\n",
       "  <tbody>\n",
       "    <tr>\n",
       "      <th>1013</th>\n",
       "      <td>2015-12-19</td>\n",
       "      <td>-26.14</td>\n",
       "      <td>ABAB UENO                TOUKIYOUTO  JPN ##121...</td>\n",
       "      <td>RETAIL</td>\n",
       "      <td>JAPAN</td>\n",
       "      <td>26.14</td>\n",
       "      <td>2</td>\n",
       "    </tr>\n",
       "    <tr>\n",
       "      <th>1001</th>\n",
       "      <td>2015-12-22</td>\n",
       "      <td>-110.91</td>\n",
       "      <td>ABAB UENO                TOUKIYOUTO  JPN ##121...</td>\n",
       "      <td>RETAIL</td>\n",
       "      <td>JAPAN</td>\n",
       "      <td>110.91</td>\n",
       "      <td>2</td>\n",
       "    </tr>\n",
       "    <tr>\n",
       "      <th>129</th>\n",
       "      <td>2016-12-26</td>\n",
       "      <td>-207.57</td>\n",
       "      <td>ADAIRS BENDIGO           BENDIGO</td>\n",
       "      <td>RETAIL</td>\n",
       "      <td>AUSTRALIA</td>\n",
       "      <td>207.57</td>\n",
       "      <td>0</td>\n",
       "    </tr>\n",
       "  </tbody>\n",
       "</table>\n",
       "</div>"
      ],
      "text/plain": [
       "           DATE  AMOUNT                                               DESC  \\\n",
       "#                                                                            \n",
       "1013 2015-12-19  -26.14  ABAB UENO                TOUKIYOUTO  JPN ##121...   \n",
       "1001 2015-12-22 -110.91  ABAB UENO                TOUKIYOUTO  JPN ##121...   \n",
       "129  2016-12-26 -207.57                   ADAIRS BENDIGO           BENDIGO   \n",
       "\n",
       "     CATEGORY   LOCATION  ABS_AMOUNT  HOLIDAY_FLAG  \n",
       "#                                                   \n",
       "1013   RETAIL      JAPAN       26.14             2  \n",
       "1001   RETAIL      JAPAN      110.91             2  \n",
       "129    RETAIL  AUSTRALIA      207.57             0  "
      ]
     },
     "execution_count": 16,
     "metadata": {},
     "output_type": "execute_result"
    }
   ],
   "source": [
    "retail_trans.head(3)"
   ]
  },
  {
   "cell_type": "code",
   "execution_count": 17,
   "metadata": {
    "collapsed": false
   },
   "outputs": [
    {
     "name": "stderr",
     "output_type": "stream",
     "text": [
      "C:\\Users\\Celeste\\Anaconda2\\lib\\site-packages\\ipykernel\\__main__.py:20: FutureWarning: sort(columns=....) is deprecated, use sort_values(by=.....)\n"
     ]
    },
    {
     "data": {
      "text/html": [
       "<div>\n",
       "<table border=\"1\" class=\"dataframe\">\n",
       "  <thead>\n",
       "    <tr style=\"text-align: right;\">\n",
       "      <th></th>\n",
       "      <th>DATE</th>\n",
       "      <th>AMOUNT</th>\n",
       "      <th>DESC</th>\n",
       "      <th>CATEGORY</th>\n",
       "      <th>LOCATION</th>\n",
       "      <th>ABS_AMOUNT</th>\n",
       "      <th>HOLIDAY_FLAG</th>\n",
       "      <th>DayOfTheWk</th>\n",
       "      <th>MonthOfYear</th>\n",
       "    </tr>\n",
       "    <tr>\n",
       "      <th>#</th>\n",
       "      <th></th>\n",
       "      <th></th>\n",
       "      <th></th>\n",
       "      <th></th>\n",
       "      <th></th>\n",
       "      <th></th>\n",
       "      <th></th>\n",
       "      <th></th>\n",
       "      <th></th>\n",
       "    </tr>\n",
       "  </thead>\n",
       "  <tbody>\n",
       "    <tr>\n",
       "      <th>55</th>\n",
       "      <td>2017-03-02</td>\n",
       "      <td>-59.00</td>\n",
       "      <td>iKOU                     Sydney      NSW</td>\n",
       "      <td>RETAIL</td>\n",
       "      <td>AUSTRALIA</td>\n",
       "      <td>59.00</td>\n",
       "      <td>0</td>\n",
       "      <td>3</td>\n",
       "      <td>3</td>\n",
       "    </tr>\n",
       "    <tr>\n",
       "      <th>56</th>\n",
       "      <td>2017-03-02</td>\n",
       "      <td>-20.98</td>\n",
       "      <td>LOVISA PTY LTD           SYDNEY</td>\n",
       "      <td>RETAIL</td>\n",
       "      <td>AUSTRALIA</td>\n",
       "      <td>20.98</td>\n",
       "      <td>0</td>\n",
       "      <td>3</td>\n",
       "      <td>3</td>\n",
       "    </tr>\n",
       "    <tr>\n",
       "      <th>8</th>\n",
       "      <td>2017-02-18</td>\n",
       "      <td>-93.50</td>\n",
       "      <td>LINDUS HORNSBY           HORNSBY</td>\n",
       "      <td>RETAIL</td>\n",
       "      <td>AUSTRALIA</td>\n",
       "      <td>93.50</td>\n",
       "      <td>0</td>\n",
       "      <td>5</td>\n",
       "      <td>2</td>\n",
       "    </tr>\n",
       "  </tbody>\n",
       "</table>\n",
       "</div>"
      ],
      "text/plain": [
       "         DATE  AMOUNT                                      DESC CATEGORY  \\\n",
       "#                                                                          \n",
       "55 2017-03-02  -59.00  iKOU                     Sydney      NSW   RETAIL   \n",
       "56 2017-03-02  -20.98           LOVISA PTY LTD           SYDNEY   RETAIL   \n",
       "8  2017-02-18  -93.50          LINDUS HORNSBY           HORNSBY   RETAIL   \n",
       "\n",
       "     LOCATION  ABS_AMOUNT  HOLIDAY_FLAG  DayOfTheWk  MonthOfYear  \n",
       "#                                                                 \n",
       "55  AUSTRALIA       59.00             0           3            3  \n",
       "56  AUSTRALIA       20.98             0           3            3  \n",
       "8   AUSTRALIA       93.50             0           5            2  "
      ]
     },
     "execution_count": 17,
     "metadata": {},
     "output_type": "execute_result"
    }
   ],
   "source": [
    "# In case the day of the week or the month of the year play particular role in my retail shopping expenditure,\n",
    "# I'd like to add these two fields (1) Day of the Week; and (2) Month of the Year.\n",
    "\n",
    "#(1) DayOfTheWeek:\n",
    "#0: Mon\n",
    "#1: Tue\n",
    "#2: Wed\n",
    "#3: Thu\n",
    "#4: Fri\n",
    "#5: Sat\n",
    "#6: Sun\n",
    "\n",
    "#(2) MonthOfYear:\n",
    "#1: Jan\n",
    "#2: Feb....\n",
    "#12: Dec\n",
    "\n",
    "retail_trans['DayOfTheWk']=retail_trans.DATE.dt.dayofweek\n",
    "retail_trans['MonthOfYear']=retail_trans.DATE.dt.month\n",
    "retail_trans = retail_trans.sort(['DATE', 'ABS_AMOUNT'], ascending=[0, 0])\n",
    "retail_trans.head(3)"
   ]
  },
  {
   "cell_type": "code",
   "execution_count": 18,
   "metadata": {
    "collapsed": false
   },
   "outputs": [
    {
     "data": {
      "text/html": [
       "<div>\n",
       "<table border=\"1\" class=\"dataframe\">\n",
       "  <thead>\n",
       "    <tr style=\"text-align: right;\">\n",
       "      <th></th>\n",
       "      <th>AMOUNT</th>\n",
       "      <th>ABS_AMOUNT</th>\n",
       "      <th>HOLIDAY_FLAG</th>\n",
       "      <th>DayOfTheWk</th>\n",
       "      <th>MonthOfYear</th>\n",
       "    </tr>\n",
       "  </thead>\n",
       "  <tbody>\n",
       "    <tr>\n",
       "      <th>count</th>\n",
       "      <td>248.000000</td>\n",
       "      <td>248.000000</td>\n",
       "      <td>248.000000</td>\n",
       "      <td>248.000000</td>\n",
       "      <td>248.000000</td>\n",
       "    </tr>\n",
       "    <tr>\n",
       "      <th>mean</th>\n",
       "      <td>-71.558468</td>\n",
       "      <td>71.558468</td>\n",
       "      <td>0.516129</td>\n",
       "      <td>3.233871</td>\n",
       "      <td>6.870968</td>\n",
       "    </tr>\n",
       "    <tr>\n",
       "      <th>std</th>\n",
       "      <td>127.445651</td>\n",
       "      <td>127.445651</td>\n",
       "      <td>0.862947</td>\n",
       "      <td>2.091467</td>\n",
       "      <td>3.590288</td>\n",
       "    </tr>\n",
       "    <tr>\n",
       "      <th>min</th>\n",
       "      <td>-1167.110000</td>\n",
       "      <td>2.000000</td>\n",
       "      <td>0.000000</td>\n",
       "      <td>0.000000</td>\n",
       "      <td>1.000000</td>\n",
       "    </tr>\n",
       "    <tr>\n",
       "      <th>25%</th>\n",
       "      <td>-72.470000</td>\n",
       "      <td>18.367500</td>\n",
       "      <td>0.000000</td>\n",
       "      <td>1.000000</td>\n",
       "      <td>4.000000</td>\n",
       "    </tr>\n",
       "    <tr>\n",
       "      <th>50%</th>\n",
       "      <td>-34.180000</td>\n",
       "      <td>34.180000</td>\n",
       "      <td>0.000000</td>\n",
       "      <td>4.000000</td>\n",
       "      <td>6.000000</td>\n",
       "    </tr>\n",
       "    <tr>\n",
       "      <th>75%</th>\n",
       "      <td>-18.367500</td>\n",
       "      <td>72.470000</td>\n",
       "      <td>1.000000</td>\n",
       "      <td>5.000000</td>\n",
       "      <td>10.250000</td>\n",
       "    </tr>\n",
       "    <tr>\n",
       "      <th>max</th>\n",
       "      <td>-2.000000</td>\n",
       "      <td>1167.110000</td>\n",
       "      <td>2.000000</td>\n",
       "      <td>6.000000</td>\n",
       "      <td>12.000000</td>\n",
       "    </tr>\n",
       "  </tbody>\n",
       "</table>\n",
       "</div>"
      ],
      "text/plain": [
       "            AMOUNT   ABS_AMOUNT  HOLIDAY_FLAG  DayOfTheWk  MonthOfYear\n",
       "count   248.000000   248.000000    248.000000  248.000000   248.000000\n",
       "mean    -71.558468    71.558468      0.516129    3.233871     6.870968\n",
       "std     127.445651   127.445651      0.862947    2.091467     3.590288\n",
       "min   -1167.110000     2.000000      0.000000    0.000000     1.000000\n",
       "25%     -72.470000    18.367500      0.000000    1.000000     4.000000\n",
       "50%     -34.180000    34.180000      0.000000    4.000000     6.000000\n",
       "75%     -18.367500    72.470000      1.000000    5.000000    10.250000\n",
       "max      -2.000000  1167.110000      2.000000    6.000000    12.000000"
      ]
     },
     "execution_count": 18,
     "metadata": {},
     "output_type": "execute_result"
    }
   ],
   "source": [
    "retail_trans.describe()"
   ]
  },
  {
   "cell_type": "code",
   "execution_count": 19,
   "metadata": {
    "collapsed": false
   },
   "outputs": [
    {
     "name": "stderr",
     "output_type": "stream",
     "text": [
      "C:\\Users\\Celeste\\Anaconda2\\lib\\site-packages\\ipykernel\\__main__.py:9: SettingWithCopyWarning: \n",
      "A value is trying to be set on a copy of a slice from a DataFrame\n",
      "\n",
      "See the caveats in the documentation: http://pandas.pydata.org/pandas-docs/stable/indexing.html#indexing-view-versus-copy\n",
      "C:\\Users\\Celeste\\Anaconda2\\lib\\site-packages\\ipykernel\\__main__.py:10: SettingWithCopyWarning: \n",
      "A value is trying to be set on a copy of a slice from a DataFrame\n",
      "\n",
      "See the caveats in the documentation: http://pandas.pydata.org/pandas-docs/stable/indexing.html#indexing-view-versus-copy\n",
      "C:\\Users\\Celeste\\Anaconda2\\lib\\site-packages\\ipykernel\\__main__.py:11: SettingWithCopyWarning: \n",
      "A value is trying to be set on a copy of a slice from a DataFrame\n",
      "\n",
      "See the caveats in the documentation: http://pandas.pydata.org/pandas-docs/stable/indexing.html#indexing-view-versus-copy\n",
      "C:\\Users\\Celeste\\Anaconda2\\lib\\site-packages\\ipykernel\\__main__.py:12: SettingWithCopyWarning: \n",
      "A value is trying to be set on a copy of a slice from a DataFrame\n",
      "\n",
      "See the caveats in the documentation: http://pandas.pydata.org/pandas-docs/stable/indexing.html#indexing-view-versus-copy\n",
      "C:\\Users\\Celeste\\Anaconda2\\lib\\site-packages\\ipykernel\\__main__.py:13: SettingWithCopyWarning: \n",
      "A value is trying to be set on a copy of a slice from a DataFrame\n",
      "\n",
      "See the caveats in the documentation: http://pandas.pydata.org/pandas-docs/stable/indexing.html#indexing-view-versus-copy\n"
     ]
    },
    {
     "data": {
      "text/html": [
       "<div>\n",
       "<table border=\"1\" class=\"dataframe\">\n",
       "  <thead>\n",
       "    <tr style=\"text-align: right;\">\n",
       "      <th></th>\n",
       "      <th>DATE</th>\n",
       "      <th>AMOUNT</th>\n",
       "      <th>DESC</th>\n",
       "      <th>CATEGORY</th>\n",
       "      <th>LOCATION</th>\n",
       "      <th>ABS_AMOUNT</th>\n",
       "      <th>HOLIDAY_FLAG</th>\n",
       "      <th>DayOfTheWk</th>\n",
       "      <th>MonthOfYear</th>\n",
       "      <th>Expense_Level</th>\n",
       "    </tr>\n",
       "    <tr>\n",
       "      <th>#</th>\n",
       "      <th></th>\n",
       "      <th></th>\n",
       "      <th></th>\n",
       "      <th></th>\n",
       "      <th></th>\n",
       "      <th></th>\n",
       "      <th></th>\n",
       "      <th></th>\n",
       "      <th></th>\n",
       "      <th></th>\n",
       "    </tr>\n",
       "  </thead>\n",
       "  <tbody>\n",
       "    <tr>\n",
       "      <th>55</th>\n",
       "      <td>2017-03-02</td>\n",
       "      <td>-59.00</td>\n",
       "      <td>iKOU                     Sydney      NSW</td>\n",
       "      <td>RETAIL</td>\n",
       "      <td>AUSTRALIA</td>\n",
       "      <td>59.00</td>\n",
       "      <td>0</td>\n",
       "      <td>3</td>\n",
       "      <td>3</td>\n",
       "      <td>0</td>\n",
       "    </tr>\n",
       "    <tr>\n",
       "      <th>56</th>\n",
       "      <td>2017-03-02</td>\n",
       "      <td>-20.98</td>\n",
       "      <td>LOVISA PTY LTD           SYDNEY</td>\n",
       "      <td>RETAIL</td>\n",
       "      <td>AUSTRALIA</td>\n",
       "      <td>20.98</td>\n",
       "      <td>0</td>\n",
       "      <td>3</td>\n",
       "      <td>3</td>\n",
       "      <td>0</td>\n",
       "    </tr>\n",
       "    <tr>\n",
       "      <th>8</th>\n",
       "      <td>2017-02-18</td>\n",
       "      <td>-93.50</td>\n",
       "      <td>LINDUS HORNSBY           HORNSBY</td>\n",
       "      <td>RETAIL</td>\n",
       "      <td>AUSTRALIA</td>\n",
       "      <td>93.50</td>\n",
       "      <td>0</td>\n",
       "      <td>5</td>\n",
       "      <td>2</td>\n",
       "      <td>1</td>\n",
       "    </tr>\n",
       "    <tr>\n",
       "      <th>7</th>\n",
       "      <td>2017-02-18</td>\n",
       "      <td>-39.00</td>\n",
       "      <td>MYER  HORNSBY            HORNSBY     NSW</td>\n",
       "      <td>RETAIL</td>\n",
       "      <td>AUSTRALIA</td>\n",
       "      <td>39.00</td>\n",
       "      <td>0</td>\n",
       "      <td>5</td>\n",
       "      <td>2</td>\n",
       "      <td>0</td>\n",
       "    </tr>\n",
       "    <tr>\n",
       "      <th>21</th>\n",
       "      <td>2017-02-13</td>\n",
       "      <td>-326.86</td>\n",
       "      <td>MODCLOTH                 8884959699  CA ##0217...</td>\n",
       "      <td>RETAIL</td>\n",
       "      <td>AUSTRALIA</td>\n",
       "      <td>326.86</td>\n",
       "      <td>0</td>\n",
       "      <td>0</td>\n",
       "      <td>2</td>\n",
       "      <td>3</td>\n",
       "    </tr>\n",
       "  </tbody>\n",
       "</table>\n",
       "</div>"
      ],
      "text/plain": [
       "         DATE  AMOUNT                                               DESC  \\\n",
       "#                                                                          \n",
       "55 2017-03-02  -59.00           iKOU                     Sydney      NSW   \n",
       "56 2017-03-02  -20.98                    LOVISA PTY LTD           SYDNEY   \n",
       "8  2017-02-18  -93.50                   LINDUS HORNSBY           HORNSBY   \n",
       "7  2017-02-18  -39.00           MYER  HORNSBY            HORNSBY     NSW   \n",
       "21 2017-02-13 -326.86  MODCLOTH                 8884959699  CA ##0217...   \n",
       "\n",
       "   CATEGORY   LOCATION  ABS_AMOUNT  HOLIDAY_FLAG  DayOfTheWk  MonthOfYear  \\\n",
       "#                                                                           \n",
       "55   RETAIL  AUSTRALIA       59.00             0           3            3   \n",
       "56   RETAIL  AUSTRALIA       20.98             0           3            3   \n",
       "8    RETAIL  AUSTRALIA       93.50             0           5            2   \n",
       "7    RETAIL  AUSTRALIA       39.00             0           5            2   \n",
       "21   RETAIL  AUSTRALIA      326.86             0           0            2   \n",
       "\n",
       "    Expense_Level  \n",
       "#                  \n",
       "55              0  \n",
       "56              0  \n",
       "8               1  \n",
       "7               0  \n",
       "21              3  "
      ]
     },
     "execution_count": 19,
     "metadata": {},
     "output_type": "execute_result"
    }
   ],
   "source": [
    "# I'd also like to add a field called Expense Level where Expense Level is:\n",
    "# 0: if the amount spent is less than or equal to the MEAN of ABS_AMOUNT (see above);\n",
    "# 1: if the amount spent is >MEAN and <= MEAN + 1 StDev of ABS_AMOUNT (see above);\n",
    "# 2: if the amount spent is >MEAN + 1 StDev and <= MEAN + 2 StDev of ABS_AMOUNT (see above);\n",
    "# 3: if the amount spent is >MEAN + 2 StDev and <= MEAN + 3 StDev of ABS_AMOUNT (see above);\n",
    "# 4: if the amount spent is >MEAN + 3 StDev(see above);\n",
    "\n",
    "retail_trans['Expense_Level']=0\n",
    "retail_trans['Expense_Level'][retail_trans['ABS_AMOUNT'] <= 72.0]=0\n",
    "retail_trans['Expense_Level'][(retail_trans['ABS_AMOUNT'] > 72.0) & (retail_trans['ABS_AMOUNT'] <= 199.0)]=1\n",
    "retail_trans['Expense_Level'][(retail_trans['ABS_AMOUNT'] > 199.0) & (retail_trans['ABS_AMOUNT'] <= 326.0)]=2\n",
    "retail_trans['Expense_Level'][(retail_trans['ABS_AMOUNT'] > 326.0) & (retail_trans['ABS_AMOUNT'] <= 453.0)]=3\n",
    "retail_trans['Expense_Level'][retail_trans['ABS_AMOUNT'] > 453.0]=4\n",
    "retail_trans.head(5)"
   ]
  },
  {
   "cell_type": "markdown",
   "metadata": {},
   "source": [
    "## Part 2: Clustering\n",
    "* For this specific example, I think I can use the following categories:\n",
    "    * ABS_AMOUNT\n",
    "    * DayOfTheWk\n",
    "    * Holiday_Flag; and \n",
    "    * MonthOfYear \n",
    "... where clustering can be successful."
   ]
  },
  {
   "cell_type": "code",
   "execution_count": 20,
   "metadata": {
    "collapsed": false
   },
   "outputs": [],
   "source": [
    "import sklearn.cluster\n",
    "import matplotlib.pyplot\n",
    "import numpy"
   ]
  },
  {
   "cell_type": "code",
   "execution_count": 21,
   "metadata": {
    "collapsed": false
   },
   "outputs": [
    {
     "data": {
      "text/plain": [
       "array([[  5.90000000e+01,   3.00000000e+00,   0.00000000e+00,\n",
       "          3.00000000e+00],\n",
       "       [  2.09800000e+01,   3.00000000e+00,   0.00000000e+00,\n",
       "          3.00000000e+00],\n",
       "       [  9.35000000e+01,   5.00000000e+00,   0.00000000e+00,\n",
       "          2.00000000e+00],\n",
       "       [  3.90000000e+01,   5.00000000e+00,   0.00000000e+00,\n",
       "          2.00000000e+00],\n",
       "       [  3.26860000e+02,   0.00000000e+00,   0.00000000e+00,\n",
       "          2.00000000e+00],\n",
       "       [  3.00000000e+01,   6.00000000e+00,   0.00000000e+00,\n",
       "          1.00000000e+00],\n",
       "       [  2.50000000e+01,   5.00000000e+00,   0.00000000e+00,\n",
       "          1.00000000e+00],\n",
       "       [  1.35000000e+01,   5.00000000e+00,   0.00000000e+00,\n",
       "          1.00000000e+00],\n",
       "       [  4.00000000e+00,   5.00000000e+00,   0.00000000e+00,\n",
       "          1.00000000e+00],\n",
       "       [  1.20950000e+02,   3.00000000e+00,   0.00000000e+00,\n",
       "          1.20000000e+01],\n",
       "       [  2.07570000e+02,   0.00000000e+00,   0.00000000e+00,\n",
       "          1.20000000e+01],\n",
       "       [  3.36900000e+01,   0.00000000e+00,   0.00000000e+00,\n",
       "          1.20000000e+01],\n",
       "       [  1.50000000e+01,   0.00000000e+00,   0.00000000e+00,\n",
       "          1.20000000e+01],\n",
       "       [  7.40000000e+01,   5.00000000e+00,   0.00000000e+00,\n",
       "          1.20000000e+01],\n",
       "       [  8.51000000e+01,   4.00000000e+00,   0.00000000e+00,\n",
       "          1.20000000e+01],\n",
       "       [  4.77000000e+01,   1.00000000e+00,   0.00000000e+00,\n",
       "          1.20000000e+01],\n",
       "       [  1.83560000e+02,   3.00000000e+00,   0.00000000e+00,\n",
       "          1.20000000e+01],\n",
       "       [  2.99000000e+01,   3.00000000e+00,   0.00000000e+00,\n",
       "          1.20000000e+01],\n",
       "       [  7.90000000e+01,   2.00000000e+00,   0.00000000e+00,\n",
       "          1.20000000e+01],\n",
       "       [  5.45880000e+02,   4.00000000e+00,   0.00000000e+00,\n",
       "          1.20000000e+01],\n",
       "       [  2.99000000e+01,   0.00000000e+00,   0.00000000e+00,\n",
       "          1.20000000e+01],\n",
       "       [  2.00000000e+01,   5.00000000e+00,   0.00000000e+00,\n",
       "          1.20000000e+01],\n",
       "       [  1.41710000e+02,   2.00000000e+00,   2.00000000e+00,\n",
       "          1.10000000e+01],\n",
       "       [  4.15100000e+01,   1.00000000e+00,   2.00000000e+00,\n",
       "          1.10000000e+01],\n",
       "       [  1.99950000e+02,   3.00000000e+00,   0.00000000e+00,\n",
       "          1.00000000e+01],\n",
       "       [  5.00000000e+01,   6.00000000e+00,   0.00000000e+00,\n",
       "          1.00000000e+01],\n",
       "       [  2.26920000e+02,   5.00000000e+00,   0.00000000e+00,\n",
       "          1.00000000e+01],\n",
       "       [  7.49000000e+00,   2.00000000e+00,   0.00000000e+00,\n",
       "          1.00000000e+01],\n",
       "       [  1.29850000e+02,   2.00000000e+00,   0.00000000e+00,\n",
       "          9.00000000e+00],\n",
       "       [  1.59900000e+01,   1.00000000e+00,   0.00000000e+00,\n",
       "          9.00000000e+00],\n",
       "       [  4.20000000e+01,   6.00000000e+00,   0.00000000e+00,\n",
       "          9.00000000e+00],\n",
       "       [  2.67590000e+02,   4.00000000e+00,   0.00000000e+00,\n",
       "          9.00000000e+00],\n",
       "       [  3.59000000e+01,   5.00000000e+00,   0.00000000e+00,\n",
       "          8.00000000e+00],\n",
       "       [  6.15000000e+00,   5.00000000e+00,   0.00000000e+00,\n",
       "          8.00000000e+00],\n",
       "       [  4.60000000e+01,   4.00000000e+00,   0.00000000e+00,\n",
       "          8.00000000e+00],\n",
       "       [  2.99500000e+01,   4.00000000e+00,   0.00000000e+00,\n",
       "          8.00000000e+00],\n",
       "       [  1.11970000e+02,   6.00000000e+00,   0.00000000e+00,\n",
       "          8.00000000e+00],\n",
       "       [  6.79700000e+01,   4.00000000e+00,   0.00000000e+00,\n",
       "          8.00000000e+00],\n",
       "       [  4.38800000e+01,   4.00000000e+00,   0.00000000e+00,\n",
       "          8.00000000e+00],\n",
       "       [  1.87000000e+01,   0.00000000e+00,   0.00000000e+00,\n",
       "          8.00000000e+00],\n",
       "       [  2.99000000e+01,   6.00000000e+00,   0.00000000e+00,\n",
       "          7.00000000e+00],\n",
       "       [  4.73500000e+01,   6.00000000e+00,   0.00000000e+00,\n",
       "          7.00000000e+00],\n",
       "       [  2.38000000e+01,   3.00000000e+00,   0.00000000e+00,\n",
       "          7.00000000e+00],\n",
       "       [  6.59800000e+01,   5.00000000e+00,   0.00000000e+00,\n",
       "          7.00000000e+00],\n",
       "       [  1.30000000e+01,   5.00000000e+00,   0.00000000e+00,\n",
       "          7.00000000e+00],\n",
       "       [  1.99800000e+02,   1.00000000e+00,   0.00000000e+00,\n",
       "          7.00000000e+00],\n",
       "       [  2.54000000e+01,   1.00000000e+00,   0.00000000e+00,\n",
       "          7.00000000e+00],\n",
       "       [  8.50000000e+00,   5.00000000e+00,   0.00000000e+00,\n",
       "          7.00000000e+00],\n",
       "       [  2.00000000e+01,   4.00000000e+00,   0.00000000e+00,\n",
       "          7.00000000e+00],\n",
       "       [  4.92000000e+01,   6.00000000e+00,   0.00000000e+00,\n",
       "          6.00000000e+00],\n",
       "       [  1.76000000e+01,   2.00000000e+00,   0.00000000e+00,\n",
       "          6.00000000e+00],\n",
       "       [  6.39900000e+01,   3.00000000e+00,   0.00000000e+00,\n",
       "          6.00000000e+00],\n",
       "       [  5.52000000e+01,   3.00000000e+00,   0.00000000e+00,\n",
       "          6.00000000e+00],\n",
       "       [  1.80000000e+01,   1.00000000e+00,   0.00000000e+00,\n",
       "          5.00000000e+00],\n",
       "       [  3.50000000e+01,   6.00000000e+00,   0.00000000e+00,\n",
       "          5.00000000e+00],\n",
       "       [  5.00000000e+00,   6.00000000e+00,   0.00000000e+00,\n",
       "          5.00000000e+00],\n",
       "       [  7.74900000e+01,   6.00000000e+00,   0.00000000e+00,\n",
       "          5.00000000e+00],\n",
       "       [  3.59700000e+01,   6.00000000e+00,   0.00000000e+00,\n",
       "          5.00000000e+00],\n",
       "       [  1.39900000e+01,   6.00000000e+00,   0.00000000e+00,\n",
       "          5.00000000e+00],\n",
       "       [  4.80000000e+00,   6.00000000e+00,   0.00000000e+00,\n",
       "          5.00000000e+00],\n",
       "       [  2.75000000e+01,   5.00000000e+00,   0.00000000e+00,\n",
       "          5.00000000e+00],\n",
       "       [  2.69900000e+01,   5.00000000e+00,   0.00000000e+00,\n",
       "          5.00000000e+00],\n",
       "       [  2.00000000e+00,   5.00000000e+00,   0.00000000e+00,\n",
       "          5.00000000e+00],\n",
       "       [  3.85000000e+01,   5.00000000e+00,   0.00000000e+00,\n",
       "          4.00000000e+00],\n",
       "       [  1.03600000e+01,   5.00000000e+00,   0.00000000e+00,\n",
       "          4.00000000e+00],\n",
       "       [  4.10000000e+00,   5.00000000e+00,   0.00000000e+00,\n",
       "          4.00000000e+00],\n",
       "       [  2.50000000e+01,   6.00000000e+00,   0.00000000e+00,\n",
       "          4.00000000e+00],\n",
       "       [  4.00000000e+01,   5.00000000e+00,   0.00000000e+00,\n",
       "          4.00000000e+00],\n",
       "       [  5.90000000e+01,   4.00000000e+00,   0.00000000e+00,\n",
       "          4.00000000e+00],\n",
       "       [  4.49500000e+01,   5.00000000e+00,   1.00000000e+00,\n",
       "          4.00000000e+00],\n",
       "       [  2.02000000e+01,   1.00000000e+00,   1.00000000e+00,\n",
       "          3.00000000e+00],\n",
       "       [  8.91500000e+01,   3.00000000e+00,   0.00000000e+00,\n",
       "          3.00000000e+00],\n",
       "       [  1.05800000e+02,   5.00000000e+00,   0.00000000e+00,\n",
       "          3.00000000e+00],\n",
       "       [  1.84900000e+01,   5.00000000e+00,   0.00000000e+00,\n",
       "          3.00000000e+00],\n",
       "       [  1.79500000e+01,   6.00000000e+00,   0.00000000e+00,\n",
       "          3.00000000e+00],\n",
       "       [  6.00000000e+00,   4.00000000e+00,   0.00000000e+00,\n",
       "          3.00000000e+00],\n",
       "       [  9.48200000e+01,   2.00000000e+00,   0.00000000e+00,\n",
       "          3.00000000e+00],\n",
       "       [  6.99800000e+01,   1.00000000e+00,   0.00000000e+00,\n",
       "          3.00000000e+00],\n",
       "       [  2.60000000e+01,   1.00000000e+00,   0.00000000e+00,\n",
       "          3.00000000e+00],\n",
       "       [  8.97000000e+00,   1.00000000e+00,   0.00000000e+00,\n",
       "          3.00000000e+00],\n",
       "       [  2.89750000e+02,   5.00000000e+00,   0.00000000e+00,\n",
       "          2.00000000e+00],\n",
       "       [  3.28000000e+01,   5.00000000e+00,   0.00000000e+00,\n",
       "          2.00000000e+00],\n",
       "       [  9.40000000e+00,   5.00000000e+00,   0.00000000e+00,\n",
       "          2.00000000e+00],\n",
       "       [  9.99000000e+01,   5.00000000e+00,   0.00000000e+00,\n",
       "          2.00000000e+00],\n",
       "       [  3.69100000e+01,   5.00000000e+00,   0.00000000e+00,\n",
       "          2.00000000e+00],\n",
       "       [  4.30000000e+01,   0.00000000e+00,   0.00000000e+00,\n",
       "          2.00000000e+00],\n",
       "       [  2.00000000e+01,   0.00000000e+00,   0.00000000e+00,\n",
       "          2.00000000e+00],\n",
       "       [  7.19600000e+01,   5.00000000e+00,   0.00000000e+00,\n",
       "          1.00000000e+00],\n",
       "       [  1.02500000e+01,   5.00000000e+00,   0.00000000e+00,\n",
       "          1.00000000e+00],\n",
       "       [  1.00000000e+01,   5.00000000e+00,   0.00000000e+00,\n",
       "          1.00000000e+00],\n",
       "       [  1.43160000e+02,   3.00000000e+00,   0.00000000e+00,\n",
       "          1.00000000e+00],\n",
       "       [  3.50000000e+01,   3.00000000e+00,   0.00000000e+00,\n",
       "          1.00000000e+00],\n",
       "       [  3.59000000e+01,   1.00000000e+00,   0.00000000e+00,\n",
       "          1.00000000e+00],\n",
       "       [  2.19900000e+01,   2.00000000e+00,   0.00000000e+00,\n",
       "          1.00000000e+00],\n",
       "       [  2.09700000e+01,   1.00000000e+00,   0.00000000e+00,\n",
       "          1.00000000e+00],\n",
       "       [  6.00000000e+00,   0.00000000e+00,   1.00000000e+00,\n",
       "          1.00000000e+00],\n",
       "       [  1.99900000e+01,   4.00000000e+00,   0.00000000e+00,\n",
       "          1.00000000e+00],\n",
       "       [  2.00000000e+00,   2.00000000e+00,   0.00000000e+00,\n",
       "          1.20000000e+01],\n",
       "       [  5.66800000e+01,   0.00000000e+00,   2.00000000e+00,\n",
       "          1.20000000e+01],\n",
       "       [  4.46100000e+01,   0.00000000e+00,   2.00000000e+00,\n",
       "          1.20000000e+01],\n",
       "       [  2.69400000e+01,   0.00000000e+00,   2.00000000e+00,\n",
       "          1.20000000e+01],\n",
       "       [  1.03270000e+02,   6.00000000e+00,   2.00000000e+00,\n",
       "          1.20000000e+01],\n",
       "       [  2.47800000e+01,   6.00000000e+00,   2.00000000e+00,\n",
       "          1.20000000e+01],\n",
       "       [  8.01170000e+02,   4.00000000e+00,   2.00000000e+00,\n",
       "          1.20000000e+01],\n",
       "       [  5.86890000e+02,   4.00000000e+00,   2.00000000e+00,\n",
       "          1.20000000e+01],\n",
       "       [  1.79950000e+02,   4.00000000e+00,   2.00000000e+00,\n",
       "          1.20000000e+01],\n",
       "       [  1.15280000e+02,   4.00000000e+00,   2.00000000e+00,\n",
       "          1.20000000e+01],\n",
       "       [  3.21900000e+01,   3.00000000e+00,   2.00000000e+00,\n",
       "          1.20000000e+01],\n",
       "       [  1.10910000e+02,   1.00000000e+00,   2.00000000e+00,\n",
       "          1.20000000e+01],\n",
       "       [  3.29200000e+01,   1.00000000e+00,   2.00000000e+00,\n",
       "          1.20000000e+01],\n",
       "       [  1.33000000e+01,   1.00000000e+00,   2.00000000e+00,\n",
       "          1.20000000e+01],\n",
       "       [  3.09400000e+01,   0.00000000e+00,   2.00000000e+00,\n",
       "          1.20000000e+01],\n",
       "       [  2.20000000e+01,   0.00000000e+00,   2.00000000e+00,\n",
       "          1.20000000e+01],\n",
       "       [  4.81300000e+01,   5.00000000e+00,   2.00000000e+00,\n",
       "          1.20000000e+01],\n",
       "       [  2.61400000e+01,   5.00000000e+00,   2.00000000e+00,\n",
       "          1.20000000e+01],\n",
       "       [  2.50000000e+01,   5.00000000e+00,   2.00000000e+00,\n",
       "          1.20000000e+01],\n",
       "       [  8.58910000e+02,   4.00000000e+00,   2.00000000e+00,\n",
       "          1.20000000e+01],\n",
       "       [  1.09060000e+02,   4.00000000e+00,   2.00000000e+00,\n",
       "          1.20000000e+01],\n",
       "       [  4.51300000e+01,   4.00000000e+00,   2.00000000e+00,\n",
       "          1.20000000e+01],\n",
       "       [  2.45000000e+01,   1.00000000e+00,   0.00000000e+00,\n",
       "          1.20000000e+01],\n",
       "       [  1.49500000e+01,   1.00000000e+00,   0.00000000e+00,\n",
       "          1.20000000e+01],\n",
       "       [  6.79000000e+00,   0.00000000e+00,   0.00000000e+00,\n",
       "          1.20000000e+01],\n",
       "       [  4.40000000e+01,   6.00000000e+00,   0.00000000e+00,\n",
       "          1.20000000e+01],\n",
       "       [  2.32000000e+02,   5.00000000e+00,   0.00000000e+00,\n",
       "          1.20000000e+01],\n",
       "       [  4.10000000e+00,   5.00000000e+00,   0.00000000e+00,\n",
       "          1.20000000e+01],\n",
       "       [  6.49800000e+01,   0.00000000e+00,   0.00000000e+00,\n",
       "          1.20000000e+01],\n",
       "       [  6.34600000e+01,   0.00000000e+00,   0.00000000e+00,\n",
       "          1.20000000e+01],\n",
       "       [  4.99500000e+01,   0.00000000e+00,   0.00000000e+00,\n",
       "          1.20000000e+01],\n",
       "       [  1.99800000e+01,   0.00000000e+00,   0.00000000e+00,\n",
       "          1.20000000e+01],\n",
       "       [  1.48500000e+01,   0.00000000e+00,   0.00000000e+00,\n",
       "          1.20000000e+01],\n",
       "       [  2.39600000e+01,   6.00000000e+00,   0.00000000e+00,\n",
       "          1.10000000e+01],\n",
       "       [  1.49750000e+02,   2.00000000e+00,   0.00000000e+00,\n",
       "          1.10000000e+01],\n",
       "       [  3.99500000e+01,   2.00000000e+00,   0.00000000e+00,\n",
       "          1.10000000e+01],\n",
       "       [  8.28000000e+01,   1.00000000e+00,   0.00000000e+00,\n",
       "          1.10000000e+01],\n",
       "       [  7.48000000e+01,   5.00000000e+00,   0.00000000e+00,\n",
       "          1.10000000e+01],\n",
       "       [  1.25000000e+02,   6.00000000e+00,   1.00000000e+00,\n",
       "          1.10000000e+01],\n",
       "       [  7.99500000e+01,   6.00000000e+00,   0.00000000e+00,\n",
       "          1.10000000e+01],\n",
       "       [  1.04900000e+02,   5.00000000e+00,   1.00000000e+00,\n",
       "          1.10000000e+01],\n",
       "       [  4.29500000e+01,   5.00000000e+00,   1.00000000e+00,\n",
       "          1.10000000e+01],\n",
       "       [  4.50000000e+01,   1.00000000e+00,   0.00000000e+00,\n",
       "          1.10000000e+01],\n",
       "       [  7.99000000e+00,   1.00000000e+00,   0.00000000e+00,\n",
       "          1.10000000e+01],\n",
       "       [  7.90000000e+00,   4.00000000e+00,   0.00000000e+00,\n",
       "          1.10000000e+01],\n",
       "       [  7.49900000e+01,   1.00000000e+00,   0.00000000e+00,\n",
       "          1.10000000e+01],\n",
       "       [  6.16600000e+01,   1.00000000e+00,   0.00000000e+00,\n",
       "          1.10000000e+01],\n",
       "       [  5.79800000e+01,   3.00000000e+00,   0.00000000e+00,\n",
       "          1.00000000e+01],\n",
       "       [  1.60000000e+01,   6.00000000e+00,   0.00000000e+00,\n",
       "          1.00000000e+01],\n",
       "       [  2.90000000e+01,   5.00000000e+00,   0.00000000e+00,\n",
       "          1.00000000e+01],\n",
       "       [  7.95000000e+00,   6.00000000e+00,   0.00000000e+00,\n",
       "          1.00000000e+01],\n",
       "       [  7.04900000e+01,   2.00000000e+00,   0.00000000e+00,\n",
       "          1.00000000e+01],\n",
       "       [  7.85000000e+00,   2.00000000e+00,   0.00000000e+00,\n",
       "          1.00000000e+01],\n",
       "       [  1.90100000e+02,   0.00000000e+00,   0.00000000e+00,\n",
       "          1.00000000e+01],\n",
       "       [  8.24900000e+01,   0.00000000e+00,   0.00000000e+00,\n",
       "          1.00000000e+01],\n",
       "       [  3.95000000e+00,   0.00000000e+00,   0.00000000e+00,\n",
       "          1.00000000e+01],\n",
       "       [  6.00000000e+01,   6.00000000e+00,   0.00000000e+00,\n",
       "          1.00000000e+01],\n",
       "       [  8.98700000e+01,   0.00000000e+00,   0.00000000e+00,\n",
       "          9.00000000e+00],\n",
       "       [  1.74600000e+01,   5.00000000e+00,   0.00000000e+00,\n",
       "          9.00000000e+00],\n",
       "       [  6.06000000e+02,   0.00000000e+00,   0.00000000e+00,\n",
       "          9.00000000e+00],\n",
       "       [  9.27500000e+01,   6.00000000e+00,   0.00000000e+00,\n",
       "          9.00000000e+00],\n",
       "       [  8.28300000e+01,   5.00000000e+00,   0.00000000e+00,\n",
       "          9.00000000e+00],\n",
       "       [  7.95000000e+01,   3.00000000e+00,   0.00000000e+00,\n",
       "          8.00000000e+00],\n",
       "       [  9.00000000e+00,   6.00000000e+00,   0.00000000e+00,\n",
       "          8.00000000e+00],\n",
       "       [  6.15000000e+00,   6.00000000e+00,   0.00000000e+00,\n",
       "          8.00000000e+00],\n",
       "       [  3.19000000e+01,   3.00000000e+00,   0.00000000e+00,\n",
       "          8.00000000e+00],\n",
       "       [  6.99500000e+01,   2.00000000e+00,   0.00000000e+00,\n",
       "          8.00000000e+00],\n",
       "       [  2.19900000e+02,   1.00000000e+00,   0.00000000e+00,\n",
       "          8.00000000e+00],\n",
       "       [  3.99500000e+01,   1.00000000e+00,   0.00000000e+00,\n",
       "          8.00000000e+00],\n",
       "       [  2.38500000e+01,   1.00000000e+00,   0.00000000e+00,\n",
       "          8.00000000e+00],\n",
       "       [  1.53700000e+01,   1.00000000e+00,   0.00000000e+00,\n",
       "          8.00000000e+00],\n",
       "       [  1.69900000e+01,   0.00000000e+00,   0.00000000e+00,\n",
       "          8.00000000e+00],\n",
       "       [  5.99500000e+01,   6.00000000e+00,   0.00000000e+00,\n",
       "          7.00000000e+00],\n",
       "       [  1.50000000e+01,   6.00000000e+00,   0.00000000e+00,\n",
       "          7.00000000e+00],\n",
       "       [  1.99000000e+01,   3.00000000e+00,   0.00000000e+00,\n",
       "          7.00000000e+00],\n",
       "       [  5.99800000e+01,   1.00000000e+00,   0.00000000e+00,\n",
       "          7.00000000e+00],\n",
       "       [  2.14700000e+01,   1.00000000e+00,   0.00000000e+00,\n",
       "          7.00000000e+00],\n",
       "       [  2.00000000e+01,   2.00000000e+00,   0.00000000e+00,\n",
       "          7.00000000e+00],\n",
       "       [  1.97400000e+01,   1.00000000e+00,   0.00000000e+00,\n",
       "          7.00000000e+00],\n",
       "       [  4.38500000e+01,   6.00000000e+00,   0.00000000e+00,\n",
       "          7.00000000e+00],\n",
       "       [  8.95000000e+00,   6.00000000e+00,   0.00000000e+00,\n",
       "          7.00000000e+00],\n",
       "       [  3.76800000e+01,   4.00000000e+00,   0.00000000e+00,\n",
       "          6.00000000e+00],\n",
       "       [  7.90000000e+00,   4.00000000e+00,   0.00000000e+00,\n",
       "          6.00000000e+00],\n",
       "       [  2.55000000e+02,   5.00000000e+00,   0.00000000e+00,\n",
       "          6.00000000e+00],\n",
       "       [  6.50000000e+01,   5.00000000e+00,   0.00000000e+00,\n",
       "          6.00000000e+00],\n",
       "       [  3.10000000e+01,   1.00000000e+00,   0.00000000e+00,\n",
       "          6.00000000e+00],\n",
       "       [  2.80000000e+01,   1.00000000e+00,   0.00000000e+00,\n",
       "          6.00000000e+00],\n",
       "       [  1.35000000e+01,   1.00000000e+00,   0.00000000e+00,\n",
       "          6.00000000e+00],\n",
       "       [  1.10370000e+02,   5.00000000e+00,   2.00000000e+00,\n",
       "          6.00000000e+00],\n",
       "       [  1.57700000e+01,   5.00000000e+00,   2.00000000e+00,\n",
       "          6.00000000e+00],\n",
       "       [  1.56700000e+01,   5.00000000e+00,   2.00000000e+00,\n",
       "          6.00000000e+00],\n",
       "       [  1.11200000e+01,   5.00000000e+00,   2.00000000e+00,\n",
       "          6.00000000e+00],\n",
       "       [  8.94000000e+00,   3.00000000e+00,   0.00000000e+00,\n",
       "          6.00000000e+00],\n",
       "       [  3.40000000e+01,   6.00000000e+00,   2.00000000e+00,\n",
       "          5.00000000e+00],\n",
       "       [  3.03000000e+01,   6.00000000e+00,   2.00000000e+00,\n",
       "          5.00000000e+00],\n",
       "       [  2.14200000e+01,   6.00000000e+00,   2.00000000e+00,\n",
       "          5.00000000e+00],\n",
       "       [  2.02600000e+01,   6.00000000e+00,   2.00000000e+00,\n",
       "          5.00000000e+00],\n",
       "       [  1.70800000e+01,   6.00000000e+00,   2.00000000e+00,\n",
       "          5.00000000e+00],\n",
       "       [  1.34370000e+02,   5.00000000e+00,   2.00000000e+00,\n",
       "          5.00000000e+00],\n",
       "       [  4.22100000e+01,   5.00000000e+00,   2.00000000e+00,\n",
       "          5.00000000e+00],\n",
       "       [  3.43600000e+01,   4.00000000e+00,   2.00000000e+00,\n",
       "          5.00000000e+00],\n",
       "       [  2.52400000e+01,   3.00000000e+00,   2.00000000e+00,\n",
       "          5.00000000e+00],\n",
       "       [  2.29500000e+01,   3.00000000e+00,   2.00000000e+00,\n",
       "          5.00000000e+00],\n",
       "       [  9.96600000e+01,   1.00000000e+00,   2.00000000e+00,\n",
       "          5.00000000e+00],\n",
       "       [  5.46200000e+01,   1.00000000e+00,   2.00000000e+00,\n",
       "          5.00000000e+00],\n",
       "       [  1.14600000e+01,   1.00000000e+00,   2.00000000e+00,\n",
       "          5.00000000e+00],\n",
       "       [  5.59000000e+01,   0.00000000e+00,   2.00000000e+00,\n",
       "          5.00000000e+00],\n",
       "       [  3.99400000e+01,   0.00000000e+00,   2.00000000e+00,\n",
       "          5.00000000e+00],\n",
       "       [  2.42600000e+01,   0.00000000e+00,   2.00000000e+00,\n",
       "          5.00000000e+00],\n",
       "       [  1.19100000e+01,   0.00000000e+00,   2.00000000e+00,\n",
       "          5.00000000e+00],\n",
       "       [  8.67000000e+00,   0.00000000e+00,   2.00000000e+00,\n",
       "          5.00000000e+00],\n",
       "       [  1.55960000e+02,   4.00000000e+00,   2.00000000e+00,\n",
       "          5.00000000e+00],\n",
       "       [  2.56600000e+01,   4.00000000e+00,   2.00000000e+00,\n",
       "          5.00000000e+00],\n",
       "       [  9.11000000e+00,   4.00000000e+00,   2.00000000e+00,\n",
       "          5.00000000e+00],\n",
       "       [  6.95100000e+01,   1.00000000e+00,   2.00000000e+00,\n",
       "          5.00000000e+00],\n",
       "       [  4.77800000e+01,   1.00000000e+00,   2.00000000e+00,\n",
       "          5.00000000e+00],\n",
       "       [  1.70600000e+01,   1.00000000e+00,   2.00000000e+00,\n",
       "          5.00000000e+00],\n",
       "       [  1.16711000e+03,   6.00000000e+00,   2.00000000e+00,\n",
       "          5.00000000e+00],\n",
       "       [  1.99900000e+01,   3.00000000e+00,   0.00000000e+00,\n",
       "          5.00000000e+00],\n",
       "       [  2.44370000e+02,   2.00000000e+00,   2.00000000e+00,\n",
       "          5.00000000e+00],\n",
       "       [  1.96340000e+02,   2.00000000e+00,   2.00000000e+00,\n",
       "          5.00000000e+00],\n",
       "       [  1.68190000e+02,   2.00000000e+00,   2.00000000e+00,\n",
       "          5.00000000e+00],\n",
       "       [  1.02820000e+02,   2.00000000e+00,   2.00000000e+00,\n",
       "          5.00000000e+00],\n",
       "       [  4.19400000e+01,   2.00000000e+00,   2.00000000e+00,\n",
       "          5.00000000e+00],\n",
       "       [  2.26200000e+01,   2.00000000e+00,   2.00000000e+00,\n",
       "          5.00000000e+00],\n",
       "       [  1.56800000e+01,   4.00000000e+00,   0.00000000e+00,\n",
       "          4.00000000e+00],\n",
       "       [  1.20000000e+02,   6.00000000e+00,   0.00000000e+00,\n",
       "          4.00000000e+00],\n",
       "       [  5.99500000e+01,   5.00000000e+00,   0.00000000e+00,\n",
       "          4.00000000e+00],\n",
       "       [  2.32500000e+01,   5.00000000e+00,   0.00000000e+00,\n",
       "          4.00000000e+00],\n",
       "       [  3.65800000e+01,   4.00000000e+00,   0.00000000e+00,\n",
       "          4.00000000e+00],\n",
       "       [  8.49000000e+00,   4.00000000e+00,   0.00000000e+00,\n",
       "          4.00000000e+00],\n",
       "       [  4.49500000e+01,   1.00000000e+00,   0.00000000e+00,\n",
       "          4.00000000e+00],\n",
       "       [  1.14300000e+01,   0.00000000e+00,   2.00000000e+00,\n",
       "          4.00000000e+00],\n",
       "       [  9.00000000e+00,   5.00000000e+00,   0.00000000e+00,\n",
       "          4.00000000e+00],\n",
       "       [  6.15000000e+00,   5.00000000e+00,   0.00000000e+00,\n",
       "          4.00000000e+00],\n",
       "       [  2.79000000e+01,   6.00000000e+00,   0.00000000e+00,\n",
       "          3.00000000e+00],\n",
       "       [  1.09950000e+02,   4.00000000e+00,   0.00000000e+00,\n",
       "          3.00000000e+00],\n",
       "       [  2.00000000e+01,   5.00000000e+00,   0.00000000e+00,\n",
       "          3.00000000e+00],\n",
       "       [  7.17000000e+00,   5.00000000e+00,   0.00000000e+00,\n",
       "          3.00000000e+00],\n",
       "       [  1.09800000e+02,   4.00000000e+00,   0.00000000e+00,\n",
       "          3.00000000e+00],\n",
       "       [  5.49000000e+01,   4.00000000e+00,   0.00000000e+00,\n",
       "          3.00000000e+00],\n",
       "       [  6.99000000e+00,   3.00000000e+00,   0.00000000e+00,\n",
       "          3.00000000e+00],\n",
       "       [  2.40000000e+01,   0.00000000e+00,   0.00000000e+00,\n",
       "          3.00000000e+00],\n",
       "       [  2.19300000e+01,   0.00000000e+00,   0.00000000e+00,\n",
       "          3.00000000e+00],\n",
       "       [  1.80800000e+02,   2.00000000e+00,   0.00000000e+00,\n",
       "          2.00000000e+00],\n",
       "       [  2.69900000e+01,   4.00000000e+00,   2.00000000e+00,\n",
       "          2.00000000e+00],\n",
       "       [  2.13700000e+01,   4.00000000e+00,   2.00000000e+00,\n",
       "          2.00000000e+00],\n",
       "       [  1.00000000e+01,   3.00000000e+00,   0.00000000e+00,\n",
       "          2.00000000e+00],\n",
       "       [  1.59950000e+02,   2.00000000e+00,   0.00000000e+00,\n",
       "          2.00000000e+00],\n",
       "       [  4.84500000e+01,   2.00000000e+00,   0.00000000e+00,\n",
       "          2.00000000e+00],\n",
       "       [  2.99900000e+01,   2.00000000e+00,   0.00000000e+00,\n",
       "          2.00000000e+00]])"
      ]
     },
     "execution_count": 21,
     "metadata": {},
     "output_type": "execute_result"
    }
   ],
   "source": [
    "# turning the dataframe into an array\n",
    "retail_trans_tmp=retail_trans[['ABS_AMOUNT','DayOfTheWk','HOLIDAY_FLAG','MonthOfYear']]\n",
    "retail_trans_array=retail_trans_tmp.values\n",
    "retail_trans_array"
   ]
  },
  {
   "cell_type": "markdown",
   "metadata": {},
   "source": [
    "### PART 2a. Preparing KMeans Clustering for my initial trial: N_clusters =5"
   ]
  },
  {
   "cell_type": "code",
   "execution_count": 22,
   "metadata": {
    "collapsed": false
   },
   "outputs": [
    {
     "data": {
      "text/plain": [
       "array([3, 1, 3, 1, 0, 1, 1, 1, 1, 3, 0, 1, 1, 3, 3, 1, 0, 1, 3, 2, 1, 1, 3,\n",
       "       1, 0, 1, 0, 1, 3, 1, 1, 0, 1, 1, 1, 1, 3, 3, 1, 1, 1, 1, 1, 3, 1, 0,\n",
       "       1, 1, 1, 1, 1, 3, 3, 1, 1, 1, 3, 1, 1, 1, 1, 1, 1, 1, 1, 1, 1, 1, 3,\n",
       "       1, 1, 3, 3, 1, 1, 1, 3, 3, 1, 1, 0, 1, 1, 3, 1, 1, 1, 3, 1, 1, 3, 1,\n",
       "       1, 1, 1, 1, 1, 1, 3, 1, 1, 3, 1, 2, 2, 0, 3, 1, 3, 1, 1, 1, 1, 1, 1,\n",
       "       1, 2, 3, 1, 1, 1, 1, 1, 0, 1, 3, 3, 1, 1, 1, 1, 0, 1, 3, 3, 3, 3, 3,\n",
       "       1, 1, 1, 1, 3, 3, 3, 1, 1, 1, 3, 1, 0, 3, 1, 3, 3, 1, 2, 3, 3, 3, 1,\n",
       "       1, 1, 3, 0, 1, 1, 1, 1, 3, 1, 1, 3, 1, 1, 1, 1, 1, 1, 1, 0, 3, 1, 1,\n",
       "       1, 3, 1, 1, 1, 1, 1, 1, 1, 1, 1, 3, 1, 1, 1, 1, 3, 3, 1, 3, 1, 1, 1,\n",
       "       1, 0, 1, 1, 3, 1, 1, 4, 1, 0, 0, 0, 3, 1, 1, 1, 3, 3, 1, 1, 1, 1, 1,\n",
       "       1, 1, 1, 3, 1, 1, 3, 3, 1, 1, 1, 0, 1, 1, 1, 0, 1, 1])"
      ]
     },
     "execution_count": 22,
     "metadata": {},
     "output_type": "execute_result"
    }
   ],
   "source": [
    "clusterer5 = sklearn.cluster.KMeans(n_clusters=5)\n",
    "clusterer5_suggestions = clusterer5.fit_predict(retail_trans_array)\n",
    "clusterer5_suggestions"
   ]
  },
  {
   "cell_type": "code",
   "execution_count": 23,
   "metadata": {
    "collapsed": false
   },
   "outputs": [
    {
     "data": {
      "text/plain": [
       "0.63581340316141921"
      ]
     },
     "execution_count": 23,
     "metadata": {},
     "output_type": "execute_result"
    }
   ],
   "source": [
    "# seeing what the Silhouette Score might look like\n",
    "import sklearn.metrics\n",
    "sklearn.metrics.silhouette_score(retail_trans_array, clusterer5_suggestions)"
   ]
  },
  {
   "cell_type": "markdown",
   "metadata": {},
   "source": [
    "### PART 2b. Preparing KMeans Clustering for a variety of Cluster Counts: 2 to 21"
   ]
  },
  {
   "cell_type": "code",
   "execution_count": 24,
   "metadata": {
    "collapsed": false
   },
   "outputs": [
    {
     "data": {
      "text/plain": [
       "[0.9068526360489656,\n",
       " 0.71506442655725633,\n",
       " 0.71746085001196591,\n",
       " 0.63581340316141921,\n",
       " 0.64630450773480075,\n",
       " 0.57387991858812759,\n",
       " 0.55096375284967425,\n",
       " 0.5105407853745364,\n",
       " 0.50780581508753742,\n",
       " 0.44605324958892528,\n",
       " 0.46272547136588965,\n",
       " 0.4528992287302579,\n",
       " 0.45879596201955314,\n",
       " 0.42541829212591942,\n",
       " 0.41966662288006895,\n",
       " 0.42536774629472046,\n",
       " 0.40790369517567948,\n",
       " 0.40214194264223901,\n",
       " 0.38082915707940357]"
      ]
     },
     "execution_count": 24,
     "metadata": {},
     "output_type": "execute_result"
    }
   ],
   "source": [
    "# Seeing what the Silhouette Scores will look like in various Cluster Counts : 2 through to 21\n",
    "scores = []\n",
    "for i in range(2, 21):\n",
    "    clustereri = sklearn.cluster.KMeans(n_clusters=i)\n",
    "    cluster_suggestionsi = clustereri.fit_predict(retail_trans_array)\n",
    "    scores.append(sklearn.metrics.silhouette_score(retail_trans_array, cluster_suggestionsi))\n",
    "scores"
   ]
  },
  {
   "cell_type": "code",
   "execution_count": 25,
   "metadata": {
    "collapsed": false
   },
   "outputs": [
    {
     "data": {
      "text/plain": [
       "[<matplotlib.lines.Line2D at 0xb52f7b8>]"
      ]
     },
     "execution_count": 25,
     "metadata": {},
     "output_type": "execute_result"
    },
    {
     "data": {
      "image/png": "[encoded data removed]",
      "text/plain": [
       "<matplotlib.figure.Figure at 0xb3c5f28>"
      ]
     },
     "metadata": {},
     "output_type": "display_data"
    }
   ],
   "source": [
    "# Plotting how the different Silhouette Scores look like in various Cluster Counts : 2 through to 21\n",
    "%matplotlib inline\n",
    "import matplotlib\n",
    "matplotlib.pyplot.plot(range(2,21), scores)"
   ]
  },
  {
   "cell_type": "code",
   "execution_count": 26,
   "metadata": {
    "collapsed": false
   },
   "outputs": [
    {
     "data": {
      "text/plain": [
       "array([0, 0, 0, 0, 0, 0, 0, 0, 0, 0, 0, 0, 0, 0, 0, 0, 0, 0, 0, 1, 0, 0, 0,\n",
       "       0, 0, 0, 0, 0, 0, 0, 0, 0, 0, 0, 0, 0, 0, 0, 0, 0, 0, 0, 0, 0, 0, 0,\n",
       "       0, 0, 0, 0, 0, 0, 0, 0, 0, 0, 0, 0, 0, 0, 0, 0, 0, 0, 0, 0, 0, 0, 0,\n",
       "       0, 0, 0, 0, 0, 0, 0, 0, 0, 0, 0, 0, 0, 0, 0, 0, 0, 0, 0, 0, 0, 0, 0,\n",
       "       0, 0, 0, 0, 0, 0, 0, 0, 0, 0, 0, 1, 1, 0, 0, 0, 0, 0, 0, 0, 0, 0, 0,\n",
       "       0, 1, 0, 0, 0, 0, 0, 0, 0, 0, 0, 0, 0, 0, 0, 0, 0, 0, 0, 0, 0, 0, 0,\n",
       "       0, 0, 0, 0, 0, 0, 0, 0, 0, 0, 0, 0, 0, 0, 0, 0, 0, 0, 1, 0, 0, 0, 0,\n",
       "       0, 0, 0, 0, 0, 0, 0, 0, 0, 0, 0, 0, 0, 0, 0, 0, 0, 0, 0, 0, 0, 0, 0,\n",
       "       0, 0, 0, 0, 0, 0, 0, 0, 0, 0, 0, 0, 0, 0, 0, 0, 0, 0, 0, 0, 0, 0, 0,\n",
       "       0, 0, 0, 0, 0, 0, 0, 1, 0, 0, 0, 0, 0, 0, 0, 0, 0, 0, 0, 0, 0, 0, 0,\n",
       "       0, 0, 0, 0, 0, 0, 0, 0, 0, 0, 0, 0, 0, 0, 0, 0, 0, 0])"
      ]
     },
     "execution_count": 26,
     "metadata": {},
     "output_type": "execute_result"
    }
   ],
   "source": [
    "# According to the Silhouette Scores Plot, it seems that Cluster=2 is where the elbow is, therefore Use: 2 Clusters\n",
    "clusterer2 = sklearn.cluster.KMeans(n_clusters=2)\n",
    "cluster_suggestions2 = clusterer2.fit_predict(retail_trans_array)\n",
    "cluster_suggestions2"
   ]
  },
  {
   "cell_type": "code",
   "execution_count": 27,
   "metadata": {
    "collapsed": false
   },
   "outputs": [
    {
     "data": {
      "text/plain": [
       "array([[  5.44650413e+01,   3.22314050e+00,   4.95867769e-01,\n",
       "          6.78512397e+00],\n",
       "       [  7.60993333e+02,   3.66666667e+00,   1.33333333e+00,\n",
       "          1.03333333e+01]])"
      ]
     },
     "execution_count": 27,
     "metadata": {},
     "output_type": "execute_result"
    }
   ],
   "source": [
    "clusterer2.cluster_centers_"
   ]
  },
  {
   "cell_type": "markdown",
   "metadata": {},
   "source": [
    "### PART 2c. Giving Descriptive Names to the Clusters I've Found\n",
    "\n",
    "##### Given result of K_Means (with cluster=2), this means the two cluster centres sit around:\n",
    "* Cluster Centre 0: Avg Spend of 54.47AUD, on Thu, during non-holiday, between June and July; and\n",
    "* Cluster Centre 1: Avg Spend of 760.99AUD, on bet Thu and Friday, during domestic or international holiday in October.\n",
    "    \n",
    "##### As such, I would like to give the following \"descriptive names\" for the two clusters I've found:\n",
    "* Cluster 0: \"EOFY (End of Financial Year) Thurs late night, mini-shopping spree, after work\"; and \n",
    "* Cluster 1: \"Spring (October) weekend-away retail therapy\"."
   ]
  },
  {
   "cell_type": "code",
   "execution_count": 28,
   "metadata": {
    "collapsed": true
   },
   "outputs": [],
   "source": [
    "#Plotting x=ABS_AMOUNT Spent with the y=Dayof the Week\n",
    "x = retail_trans_array[:,0]\n",
    "y = retail_trans_array[:,1]"
   ]
  },
  {
   "cell_type": "code",
   "execution_count": 29,
   "metadata": {
    "collapsed": true
   },
   "outputs": [],
   "source": [
    "#set yellow for cluster#0\n",
    "#set black for cluster#1\n",
    "import numpy\n",
    "colouring = numpy.array(['yellow', 'black'])"
   ]
  },
  {
   "cell_type": "code",
   "execution_count": 30,
   "metadata": {
    "collapsed": false
   },
   "outputs": [
    {
     "data": {
      "text/plain": [
       "array(['yellow', 'yellow', 'yellow', 'yellow', 'yellow', 'yellow',\n",
       "       'yellow', 'yellow', 'yellow', 'yellow', 'yellow', 'yellow',\n",
       "       'yellow', 'yellow', 'yellow', 'yellow', 'yellow', 'yellow',\n",
       "       'yellow', 'black', 'yellow', 'yellow', 'yellow', 'yellow', 'yellow',\n",
       "       'yellow', 'yellow', 'yellow', 'yellow', 'yellow', 'yellow',\n",
       "       'yellow', 'yellow', 'yellow', 'yellow', 'yellow', 'yellow',\n",
       "       'yellow', 'yellow', 'yellow', 'yellow', 'yellow', 'yellow',\n",
       "       'yellow', 'yellow', 'yellow', 'yellow', 'yellow', 'yellow',\n",
       "       'yellow', 'yellow', 'yellow', 'yellow', 'yellow', 'yellow',\n",
       "       'yellow', 'yellow', 'yellow', 'yellow', 'yellow', 'yellow',\n",
       "       'yellow', 'yellow', 'yellow', 'yellow', 'yellow', 'yellow',\n",
       "       'yellow', 'yellow', 'yellow', 'yellow', 'yellow', 'yellow',\n",
       "       'yellow', 'yellow', 'yellow', 'yellow', 'yellow', 'yellow',\n",
       "       'yellow', 'yellow', 'yellow', 'yellow', 'yellow', 'yellow',\n",
       "       'yellow', 'yellow', 'yellow', 'yellow', 'yellow', 'yellow',\n",
       "       'yellow', 'yellow', 'yellow', 'yellow', 'yellow', 'yellow',\n",
       "       'yellow', 'yellow', 'yellow', 'yellow', 'yellow', 'yellow', 'black',\n",
       "       'black', 'yellow', 'yellow', 'yellow', 'yellow', 'yellow', 'yellow',\n",
       "       'yellow', 'yellow', 'yellow', 'yellow', 'yellow', 'black', 'yellow',\n",
       "       'yellow', 'yellow', 'yellow', 'yellow', 'yellow', 'yellow',\n",
       "       'yellow', 'yellow', 'yellow', 'yellow', 'yellow', 'yellow',\n",
       "       'yellow', 'yellow', 'yellow', 'yellow', 'yellow', 'yellow',\n",
       "       'yellow', 'yellow', 'yellow', 'yellow', 'yellow', 'yellow',\n",
       "       'yellow', 'yellow', 'yellow', 'yellow', 'yellow', 'yellow',\n",
       "       'yellow', 'yellow', 'yellow', 'yellow', 'yellow', 'yellow',\n",
       "       'yellow', 'yellow', 'black', 'yellow', 'yellow', 'yellow', 'yellow',\n",
       "       'yellow', 'yellow', 'yellow', 'yellow', 'yellow', 'yellow',\n",
       "       'yellow', 'yellow', 'yellow', 'yellow', 'yellow', 'yellow',\n",
       "       'yellow', 'yellow', 'yellow', 'yellow', 'yellow', 'yellow',\n",
       "       'yellow', 'yellow', 'yellow', 'yellow', 'yellow', 'yellow',\n",
       "       'yellow', 'yellow', 'yellow', 'yellow', 'yellow', 'yellow',\n",
       "       'yellow', 'yellow', 'yellow', 'yellow', 'yellow', 'yellow',\n",
       "       'yellow', 'yellow', 'yellow', 'yellow', 'yellow', 'yellow',\n",
       "       'yellow', 'yellow', 'yellow', 'yellow', 'yellow', 'yellow',\n",
       "       'yellow', 'yellow', 'yellow', 'yellow', 'yellow', 'black', 'yellow',\n",
       "       'yellow', 'yellow', 'yellow', 'yellow', 'yellow', 'yellow',\n",
       "       'yellow', 'yellow', 'yellow', 'yellow', 'yellow', 'yellow',\n",
       "       'yellow', 'yellow', 'yellow', 'yellow', 'yellow', 'yellow',\n",
       "       'yellow', 'yellow', 'yellow', 'yellow', 'yellow', 'yellow',\n",
       "       'yellow', 'yellow', 'yellow', 'yellow', 'yellow', 'yellow',\n",
       "       'yellow', 'yellow'], \n",
       "      dtype='|S6')"
      ]
     },
     "execution_count": 30,
     "metadata": {},
     "output_type": "execute_result"
    }
   ],
   "source": [
    "colour_by_cluster2 = colouring[cluster_suggestions2]\n",
    "colour_by_cluster2"
   ]
  },
  {
   "cell_type": "code",
   "execution_count": 31,
   "metadata": {
    "collapsed": false
   },
   "outputs": [
    {
     "data": {
      "text/plain": [
       "<matplotlib.collections.PathCollection at 0xbc429e8>"
      ]
     },
     "execution_count": 31,
     "metadata": {},
     "output_type": "execute_result"
    },
    {
     "data": {
      "image/png": "[encoded data removed]",
      "text/plain": [
       "<matplotlib.figure.Figure at 0xb3e2f98>"
      ]
     },
     "metadata": {},
     "output_type": "display_data"
    }
   ],
   "source": [
    "%matplotlib inline\n",
    "matplotlib.pyplot.scatter(x,y, color=colour_by_cluster2)"
   ]
  },
  {
   "cell_type": "markdown",
   "metadata": {
    "collapsed": true
   },
   "source": [
    "### PART 2d. Trying the DBSCAN Clusterer, with eps=4.0 and min_samples=5"
   ]
  },
  {
   "cell_type": "code",
   "execution_count": 32,
   "metadata": {
    "collapsed": false
   },
   "outputs": [
    {
     "data": {
      "text/plain": [
       "-0.18459057680728971"
      ]
     },
     "execution_count": 32,
     "metadata": {},
     "output_type": "execute_result"
    }
   ],
   "source": [
    "# Note: eps is the radius at any direction; If the eps is so small, it is likely to get lots of outliers,\n",
    "#            so expand the eps value to allow for more points to catch\n",
    "dbscan = sklearn.cluster.DBSCAN(eps=4.0, min_samples=5)\n",
    "dbscan_suggestions = dbscan.fit_predict(retail_trans_array)\n",
    "dbscan_suggestions\n",
    "sklearn.metrics.silhouette_score(retail_trans_array, dbscan_suggestions)"
   ]
  },
  {
   "cell_type": "markdown",
   "metadata": {},
   "source": [
    "### PART 2e. Trying the DBSCAN Clusterer, with eps=10.0 and min_samples=5"
   ]
  },
  {
   "cell_type": "code",
   "execution_count": 33,
   "metadata": {
    "collapsed": false
   },
   "outputs": [
    {
     "data": {
      "text/plain": [
       "0.77413541338501468"
      ]
     },
     "execution_count": 33,
     "metadata": {},
     "output_type": "execute_result"
    }
   ],
   "source": [
    "# Note: eps is the radius at any direction; If the eps is so small, it is likely to get lots of outliers,\n",
    "#            so expand the eps value to allow for more points to catch\n",
    "dbscan = sklearn.cluster.DBSCAN(eps=10.0, min_samples=5)\n",
    "dbscan_suggestions = dbscan.fit_predict(retail_trans_array)\n",
    "dbscan_suggestions\n",
    "sklearn.metrics.silhouette_score(retail_trans_array, dbscan_suggestions)"
   ]
  },
  {
   "cell_type": "markdown",
   "metadata": {},
   "source": [
    "### PART 2f. Trying the DBSCAN Clusterer, with for eps between 2.0 and 20.0 to see where the \"elbow occurs\""
   ]
  },
  {
   "cell_type": "code",
   "execution_count": 34,
   "metadata": {
    "collapsed": false
   },
   "outputs": [
    {
     "data": {
      "text/plain": [
       "[-0.49198460041460779,\n",
       " -0.2374540040656008,\n",
       " -0.18459057680728971,\n",
       " 0.31042357865233905,\n",
       " 0.42230461523266594,\n",
       " 0.48382169055500085,\n",
       " 0.75945266419007695,\n",
       " 0.76457177785620967,\n",
       " 0.77413541338501468,\n",
       " 0.63685747312077512,\n",
       " 0.63890642053011659,\n",
       " 0.64223069013819667,\n",
       " 0.84443763290129881,\n",
       " 0.84443763290129881,\n",
       " 0.84443763290129881,\n",
       " 0.84443763290129881,\n",
       " 0.84443763290129881,\n",
       " 0.84443763290129881]"
      ]
     },
     "execution_count": 34,
     "metadata": {},
     "output_type": "execute_result"
    }
   ],
   "source": [
    "# eps=4.0 vs eps=10.0 rendered two very different silhouette scores!\n",
    "# Notes has it that the higher the Silhouette Score the better so now, I'd like to try for \n",
    "# various values of eps between 2.0 and 20.0\n",
    "\n",
    "# Seeing what the Silhouette Scores will look like for eps: 2.0 through to 20.0\n",
    "dbscan_scores = []\n",
    "for i in range(2, 20):\n",
    "    j=[\"%.2f\" % (i,)]\n",
    "    dbscan_i = sklearn.cluster.DBSCAN(eps=j, min_samples=5)\n",
    "    dbscan_cluster_suggestions_i = dbscan_i.fit_predict(retail_trans_array)\n",
    "    dbscan_scores.append(sklearn.metrics.silhouette_score(retail_trans_array, dbscan_cluster_suggestions_i))\n",
    "dbscan_scores"
   ]
  },
  {
   "cell_type": "code",
   "execution_count": 35,
   "metadata": {
    "collapsed": false
   },
   "outputs": [
    {
     "data": {
      "text/plain": [
       "[<matplotlib.lines.Line2D at 0xbef1828>]"
      ]
     },
     "execution_count": 35,
     "metadata": {},
     "output_type": "execute_result"
    },
    {
     "data": {
      "image/png": "[encoded data removed]",
      "text/plain": [
       "<matplotlib.figure.Figure at 0xbc1d2b0>"
      ]
     },
     "metadata": {},
     "output_type": "display_data"
    }
   ],
   "source": [
    "# Plotting how the different Silhouette Scores look like in various eps values : 2.0 through to 20.0\n",
    "%matplotlib inline\n",
    "import matplotlib\n",
    "matplotlib.pyplot.plot(range(2,20), dbscan_scores)     "
   ]
  },
  {
   "cell_type": "code",
   "execution_count": 36,
   "metadata": {
    "collapsed": false
   },
   "outputs": [
    {
     "data": {
      "text/plain": [
       "array([ 0,  1, -1,  1, -1,  1,  1,  1,  1, -1, -1,  1,  1,  2,  2,  1, -1,\n",
       "        1,  2, -1,  1,  1, -1,  1, -1,  1, -1,  1, -1,  1,  1, -1,  1,  1,\n",
       "        1,  1, -1,  0,  1,  1,  1,  1,  1,  0,  1, -1,  1,  1,  1,  1,  1,\n",
       "        0,  0,  1,  1,  1,  2,  1,  1,  1,  1,  1,  1,  1,  1,  1,  1,  1,\n",
       "        0,  1,  1, -1, -1,  1,  1,  1, -1, -1,  1,  1, -1,  1,  1, -1,  1,\n",
       "        1,  1, -1,  1,  1, -1,  1,  1,  1,  1,  1,  1,  1,  0,  1,  1, -1,\n",
       "        1, -1, -1, -1, -1,  1, -1,  1,  1,  1,  1,  1,  1,  1, -1, -1,  1,\n",
       "        1,  1,  1,  1, -1,  1,  0,  0,  1,  1,  1,  1, -1,  1,  2,  2, -1,\n",
       "        2, -1,  1,  1,  1,  1,  2,  0,  0,  1,  1,  1,  0,  1, -1,  2,  1,\n",
       "        0, -1,  1, -1, -1,  2,  2,  1,  1,  1,  0, -1,  1,  1,  1,  1,  0,\n",
       "        1,  1,  0,  1,  1,  1,  1,  1,  1,  1, -1,  0,  1,  1,  1, -1,  1,\n",
       "        1,  1,  1,  1,  1,  1,  1,  1, -1,  1,  1,  1,  1, -1,  0,  1,  0,\n",
       "        1,  1,  1,  1, -1,  1,  1,  0,  1,  1, -1,  1, -1, -1, -1, -1,  1,\n",
       "        1,  1, -1,  0,  1,  1,  1,  1,  1,  1,  1,  1, -1,  1,  1, -1,  0,\n",
       "        1,  1,  1, -1,  1,  1,  1, -1,  1,  1], dtype=int64)"
      ]
     },
     "execution_count": 36,
     "metadata": {},
     "output_type": "execute_result"
    }
   ],
   "source": [
    "# by the looks of this, eps=5.0 seems to be the last elbow where significant gains in Silhouette Score appeared\n",
    "dbscan_clusterer5 = sklearn.cluster.DBSCAN(eps=5.0, min_samples=5)\n",
    "dbscan_cluster_suggestions5 = dbscan_clusterer5.fit_predict(retail_trans_array)\n",
    "dbscan_cluster_suggestions5"
   ]
  },
  {
   "cell_type": "code",
   "execution_count": 37,
   "metadata": {
    "collapsed": false
   },
   "outputs": [
    {
     "data": {
      "text/plain": [
       "array([[  2.11715500e+02,   2.60000000e+00,   5.00000000e-01,\n",
       "          7.35000000e+00],\n",
       "       [  2.34961111e+01,   3.27160494e+00,   5.06172840e-01,\n",
       "          6.45061728e+00],\n",
       "       [  6.79770000e+02,   3.20000000e+00,   1.20000000e+00,\n",
       "          1.14000000e+01],\n",
       "       [  8.56643333e+01,   3.30000000e+00,   4.66666667e-01,\n",
       "          7.50000000e+00],\n",
       "       [  1.16711000e+03,   6.00000000e+00,   2.00000000e+00,\n",
       "          5.00000000e+00]])"
      ]
     },
     "execution_count": 37,
     "metadata": {},
     "output_type": "execute_result"
    }
   ],
   "source": [
    "clusterer5.cluster_centers_"
   ]
  },
  {
   "cell_type": "markdown",
   "metadata": {},
   "source": [
    "### PART 2g. Giving Descriptive Names to the DBSCAN Clusters I've Found"
   ]
  },
  {
   "cell_type": "markdown",
   "metadata": {},
   "source": [
    "##### Given result of DBSCAN (with eps=5.0), this means the five cluster centres sit around:\n",
    "* Cluster Centre 0: Avg Spend of  24AUD, on Thu, during non-holiday, in early part of June;\n",
    "* Cluster Centre 1: Avg Spend of 942AUD, between Fri and Sat, during an international holiday in Sep.\n",
    "* Cluster Centre 2: Avg Spend of 215AUD, on Wed, during non-holiday in July.\n",
    "* Cluster Centre 3: Avg Spend of  89.50AUD, on Thu, during non-holiday in July.\n",
    "* Cluster Centre 4: Avg Spend of 580AUD, on Wed, during non-holiday in November.\n",
    "    \n",
    "##### As such, I would like to give the following \"descriptive names\" for the five DBSCAN clusters I've found:\n",
    "* Cluster Centre 0: Small purchase, EOFY sale late-night shopping after-work. \n",
    "* Cluster Centre 1: Pre-flight weekend splurge before coming home from International Holiday.\n",
    "* Cluster Centre 2: Medium purchase, EOFY sale, mid-week shopping after-work. \n",
    "* Cluster Centre 3: Controlled Splurge, EOFY sale, late-night shopping after-work.\n",
    "* Cluster Centre 4: Pre-Christmas Splurge, mid-week splurge after-work.\n"
   ]
  },
  {
   "cell_type": "code",
   "execution_count": 38,
   "metadata": {
    "collapsed": true
   },
   "outputs": [],
   "source": [
    "#Plotting x=ABS_AMOUNT Spent with the y=Day of the Week\n",
    "x5 = retail_trans_array[:,0]\n",
    "y5 = retail_trans_array[:,1]"
   ]
  },
  {
   "cell_type": "code",
   "execution_count": 39,
   "metadata": {
    "collapsed": true
   },
   "outputs": [],
   "source": [
    "#set 'Red' for Cluster: 0\n",
    "#set 'Orange' for Cluster: 1\n",
    "#set 'Yellow' for Cluster: 2\n",
    "#set 'Green' for Cluster: 3\n",
    "#set 'Black' for Cluster: 4\n",
    "import numpy\n",
    "colouring5 = numpy.array(['red','orange','yellow','pink','blue'])"
   ]
  },
  {
   "cell_type": "code",
   "execution_count": 40,
   "metadata": {
    "collapsed": false
   },
   "outputs": [
    {
     "data": {
      "text/plain": [
       "array(['red', 'orange', 'blue', 'orange', 'blue', 'orange', 'orange',\n",
       "       'orange', 'orange', 'blue', 'blue', 'orange', 'orange', 'yellow',\n",
       "       'yellow', 'orange', 'blue', 'orange', 'yellow', 'blue', 'orange',\n",
       "       'orange', 'blue', 'orange', 'blue', 'orange', 'blue', 'orange',\n",
       "       'blue', 'orange', 'orange', 'blue', 'orange', 'orange', 'orange',\n",
       "       'orange', 'blue', 'red', 'orange', 'orange', 'orange', 'orange',\n",
       "       'orange', 'red', 'orange', 'blue', 'orange', 'orange', 'orange',\n",
       "       'orange', 'orange', 'red', 'red', 'orange', 'orange', 'orange',\n",
       "       'yellow', 'orange', 'orange', 'orange', 'orange', 'orange',\n",
       "       'orange', 'orange', 'orange', 'orange', 'orange', 'orange', 'red',\n",
       "       'orange', 'orange', 'blue', 'blue', 'orange', 'orange', 'orange',\n",
       "       'blue', 'blue', 'orange', 'orange', 'blue', 'orange', 'orange',\n",
       "       'blue', 'orange', 'orange', 'orange', 'blue', 'orange', 'orange',\n",
       "       'blue', 'orange', 'orange', 'orange', 'orange', 'orange', 'orange',\n",
       "       'orange', 'red', 'orange', 'orange', 'blue', 'orange', 'blue',\n",
       "       'blue', 'blue', 'blue', 'orange', 'blue', 'orange', 'orange',\n",
       "       'orange', 'orange', 'orange', 'orange', 'orange', 'blue', 'blue',\n",
       "       'orange', 'orange', 'orange', 'orange', 'orange', 'blue', 'orange',\n",
       "       'red', 'red', 'orange', 'orange', 'orange', 'orange', 'blue',\n",
       "       'orange', 'yellow', 'yellow', 'blue', 'yellow', 'blue', 'orange',\n",
       "       'orange', 'orange', 'orange', 'yellow', 'red', 'red', 'orange',\n",
       "       'orange', 'orange', 'red', 'orange', 'blue', 'yellow', 'orange',\n",
       "       'red', 'blue', 'orange', 'blue', 'blue', 'yellow', 'yellow',\n",
       "       'orange', 'orange', 'orange', 'red', 'blue', 'orange', 'orange',\n",
       "       'orange', 'orange', 'red', 'orange', 'orange', 'red', 'orange',\n",
       "       'orange', 'orange', 'orange', 'orange', 'orange', 'orange', 'blue',\n",
       "       'red', 'orange', 'orange', 'orange', 'blue', 'orange', 'orange',\n",
       "       'orange', 'orange', 'orange', 'orange', 'orange', 'orange',\n",
       "       'orange', 'blue', 'orange', 'orange', 'orange', 'orange', 'blue',\n",
       "       'red', 'orange', 'red', 'orange', 'orange', 'orange', 'orange',\n",
       "       'blue', 'orange', 'orange', 'red', 'orange', 'orange', 'blue',\n",
       "       'orange', 'blue', 'blue', 'blue', 'blue', 'orange', 'orange',\n",
       "       'orange', 'blue', 'red', 'orange', 'orange', 'orange', 'orange',\n",
       "       'orange', 'orange', 'orange', 'orange', 'blue', 'orange', 'orange',\n",
       "       'blue', 'red', 'orange', 'orange', 'orange', 'blue', 'orange',\n",
       "       'orange', 'orange', 'blue', 'orange', 'orange'], \n",
       "      dtype='|S6')"
      ]
     },
     "execution_count": 40,
     "metadata": {},
     "output_type": "execute_result"
    }
   ],
   "source": [
    "colour_by_cluster5 = colouring5[dbscan_cluster_suggestions5]\n",
    "colour_by_cluster5"
   ]
  },
  {
   "cell_type": "code",
   "execution_count": 41,
   "metadata": {
    "collapsed": false
   },
   "outputs": [
    {
     "data": {
      "text/plain": [
       "<matplotlib.collections.PathCollection at 0xc168438>"
      ]
     },
     "execution_count": 41,
     "metadata": {},
     "output_type": "execute_result"
    },
    {
     "data": {
      "image/png": "[encoded data removed]",
      "text/plain": [
       "<matplotlib.figure.Figure at 0xc2ab4e0>"
      ]
     },
     "metadata": {},
     "output_type": "display_data"
    }
   ],
   "source": [
    "%matplotlib inline\n",
    "matplotlib.pyplot.scatter(x5,y5, color=colour_by_cluster5)"
   ]
  },
  {
   "cell_type": "markdown",
   "metadata": {},
   "source": [
    "## Part 3: Decision Trees"
   ]
  },
  {
   "cell_type": "code",
   "execution_count": 42,
   "metadata": {
    "collapsed": true
   },
   "outputs": [],
   "source": [
    "import sklearn.tree\n",
    "import sklearn.grid_search"
   ]
  },
  {
   "cell_type": "code",
   "execution_count": 43,
   "metadata": {
    "collapsed": true
   },
   "outputs": [],
   "source": [
    "# Create a DecisionTreeClassifier which splits based on \n",
    "# entropy with a depth of 2\n",
    "dtc = sklearn.tree.DecisionTreeClassifier(max_depth=2, criterion='entropy')"
   ]
  },
  {
   "cell_type": "code",
   "execution_count": 44,
   "metadata": {
    "collapsed": false
   },
   "outputs": [
    {
     "data": {
      "text/plain": [
       "DecisionTreeClassifier(class_weight=None, criterion='entropy', max_depth=2,\n",
       "            max_features=None, max_leaf_nodes=None, min_samples_leaf=1,\n",
       "            min_samples_split=2, min_weight_fraction_leaf=0.0,\n",
       "            presort=False, random_state=None, splitter='best')"
      ]
     },
     "execution_count": 44,
     "metadata": {},
     "output_type": "execute_result"
    }
   ],
   "source": [
    "# Try to predict the 'Expense Level' column from 'DayOfTheWk', 'HOLIDAY_FLAG' and 'MonthOfYear'\n",
    "X=retail_trans[['DayOfTheWk', 'HOLIDAY_FLAG', 'MonthOfYear']]\n",
    "y=retail_trans.Expense_Level\n",
    "dtc.fit(X, y)\n",
    "dtc"
   ]
  },
  {
   "cell_type": "code",
   "execution_count": 45,
   "metadata": {
    "collapsed": false
   },
   "outputs": [
    {
     "data": {
      "text/plain": [
       "array([ 0.46500724,  0.        ,  0.53499276])"
      ]
     },
     "execution_count": 45,
     "metadata": {},
     "output_type": "execute_result"
    }
   ],
   "source": [
    "# Use the feature_importances_ to identify what was the most important criteria in Expense_Level\n",
    "dtc.feature_importances_"
   ]
  },
  {
   "cell_type": "markdown",
   "metadata": {},
   "source": [
    "#### Insights Drawn:\n",
    "\n",
    "* Month of the Year, followed by the Day of The Week seems to be the two most important drivers of Expense Level\n",
    "* WHERE \"Expense_Level\" is:\n",
    "    * 0: if the amount spent in a day is <=72 AUD; OR MEAN of ABS_AMOUNT ;\n",
    "    * 1: if the amount spent in a day is between 72.01 and 199 AUD; OR MEAN + 1 StDev of ABS_AMOUNT ;\n",
    "    * 2: if the amount spent in a day is between 199.01 and 326 AUD; OR MEAN + 2 StDev of ABS_AMOUNT ;\n",
    "    * 3: if the amount spent in a day is between 326.01 and 453 AUD; OR MEAN + 3 StDev of ABS_AMOUNT ;\n",
    "    * 4: if the amount spent is > 453 AUD."
   ]
  },
  {
   "cell_type": "code",
   "execution_count": 46,
   "metadata": {
    "collapsed": false
   },
   "outputs": [
    {
     "data": {
      "image/png": "[encoded data removed]",
      "text/plain": [
       "<IPython.core.display.Image object>"
      ]
     },
     "execution_count": 46,
     "metadata": {},
     "output_type": "execute_result"
    }
   ],
   "source": [
    "# import the sklearn.tree library and use the export_graphviz\n",
    "# method to write deeper decision tree out to the StringIO\n",
    "# file object\n",
    "\n",
    "try:\n",
    " from StringIO import StringIO\n",
    "except ImportError:\n",
    " from io import StringIO\n",
    "\n",
    "import sklearn.tree\n",
    "import IPython.display\n",
    "import pydot\n",
    "File_obj = StringIO()\n",
    "sklearn.tree.export_graphviz(dtc, out_file=File_obj)\n",
    "Graph = pydot.graph_from_dot_data(File_obj.getvalue())\n",
    "IPython.display.Image(Graph.create_png())"
   ]
  },
  {
   "cell_type": "markdown",
   "metadata": {},
   "source": [
    "#### Explanation:\n",
    "* I'd like to use a simple Decision Tree with a depth=2 to articulate the answer to \"How certain observable factors affect my retail shopping habit?\". The concept alone can get quite overwheliming so as a starting point, I'd start simple. We can refine this later on (for higher levels of accuracy) if needed be.\n",
    "\n",
    "#### Insights Drawn:\n",
    "* Decision Tree tells me that it is most likely to :\n",
    "    * Spend lots on small transactions, <AUD72 between Jan and mid-August, between Monday and Tuesday;\n",
    "    * Splurge between August and December, between Wednesday and Sunday (probably because of tax rebates, bonus and Christmas)"
   ]
  },
  {
   "cell_type": "markdown",
   "metadata": {},
   "source": [
    "## Part 4: Model Evaluation"
   ]
  },
  {
   "cell_type": "code",
   "execution_count": 47,
   "metadata": {
    "collapsed": true
   },
   "outputs": [],
   "source": [
    "#Defining the prediction variables\n",
    "\n",
    "X = retail_trans[['DayOfTheWk', 'HOLIDAY_FLAG', 'MonthOfYear']]\n",
    "y = retail_trans.Expense_Level"
   ]
  },
  {
   "cell_type": "code",
   "execution_count": 48,
   "metadata": {
    "collapsed": false
   },
   "outputs": [
    {
     "data": {
      "text/plain": [
       "(248, 10)"
      ]
     },
     "execution_count": 48,
     "metadata": {},
     "output_type": "execute_result"
    }
   ],
   "source": [
    "retail_trans.shape"
   ]
  },
  {
   "cell_type": "code",
   "execution_count": 49,
   "metadata": {
    "collapsed": true
   },
   "outputs": [],
   "source": [
    "# import the sklearn.cross_validation library\n",
    "import sklearn.cross_validation"
   ]
  },
  {
   "cell_type": "markdown",
   "metadata": {},
   "source": [
    "### Part 4a: Model Evaluation using Train-Test-Split of 75% Training-25% Test sample size."
   ]
  },
  {
   "cell_type": "code",
   "execution_count": 50,
   "metadata": {
    "collapsed": true
   },
   "outputs": [],
   "source": [
    "# Split the data into training and testing sets using train_test_split, with 75% training and 25% test size.\n",
    "from sklearn.cross_validation import train_test_split\n",
    "import sklearn.metrics\n",
    "(X_train, X_test, y_train, y_test) = train_test_split(X, y,\n",
    "                                              test_size=0.25)"
   ]
  },
  {
   "cell_type": "code",
   "execution_count": 51,
   "metadata": {
    "collapsed": false
   },
   "outputs": [
    {
     "name": "stdout",
     "output_type": "stream",
     "text": [
      "0.677419354839\n"
     ]
    }
   ],
   "source": [
    "# Training a Logistic Reg Predictor on the Training Data\n",
    "import sklearn.linear_model\n",
    "Predictor = sklearn.linear_model.LogisticRegression(C=1000)\n",
    "Predictor.fit(X_train, y_train)\n",
    "Y_predict = Predictor.predict(X_test)\n",
    "\n",
    "# Comparing the accuracy score between y_test (teacher's answer) vs Y_predict (my answer)\n",
    "print sklearn.metrics.accuracy_score(y_test, Y_predict)"
   ]
  },
  {
   "cell_type": "code",
   "execution_count": 52,
   "metadata": {
    "collapsed": false
   },
   "outputs": [
    {
     "data": {
      "text/html": [
       "<div>\n",
       "<table border=\"1\" class=\"dataframe\">\n",
       "  <thead>\n",
       "    <tr style=\"text-align: right;\">\n",
       "      <th></th>\n",
       "      <th>DayOfTheWk</th>\n",
       "      <th>HOLIDAY_FLAG</th>\n",
       "      <th>MonthOfYear</th>\n",
       "    </tr>\n",
       "    <tr>\n",
       "      <th>#</th>\n",
       "      <th></th>\n",
       "      <th></th>\n",
       "      <th></th>\n",
       "    </tr>\n",
       "  </thead>\n",
       "  <tbody>\n",
       "    <tr>\n",
       "      <th>1029</th>\n",
       "      <td>1</td>\n",
       "      <td>0</td>\n",
       "      <td>12</td>\n",
       "    </tr>\n",
       "    <tr>\n",
       "      <th>577</th>\n",
       "      <td>3</td>\n",
       "      <td>0</td>\n",
       "      <td>6</td>\n",
       "    </tr>\n",
       "    <tr>\n",
       "      <th>1621</th>\n",
       "      <td>4</td>\n",
       "      <td>0</td>\n",
       "      <td>3</td>\n",
       "    </tr>\n",
       "    <tr>\n",
       "      <th>698</th>\n",
       "      <td>1</td>\n",
       "      <td>0</td>\n",
       "      <td>7</td>\n",
       "    </tr>\n",
       "    <tr>\n",
       "      <th>997</th>\n",
       "      <td>1</td>\n",
       "      <td>2</td>\n",
       "      <td>12</td>\n",
       "    </tr>\n",
       "    <tr>\n",
       "      <th>1169</th>\n",
       "      <td>2</td>\n",
       "      <td>0</td>\n",
       "      <td>10</td>\n",
       "    </tr>\n",
       "    <tr>\n",
       "      <th>1591</th>\n",
       "      <td>2</td>\n",
       "      <td>0</td>\n",
       "      <td>2</td>\n",
       "    </tr>\n",
       "    <tr>\n",
       "      <th>956</th>\n",
       "      <td>1</td>\n",
       "      <td>0</td>\n",
       "      <td>3</td>\n",
       "    </tr>\n",
       "    <tr>\n",
       "      <th>1607</th>\n",
       "      <td>4</td>\n",
       "      <td>0</td>\n",
       "      <td>3</td>\n",
       "    </tr>\n",
       "    <tr>\n",
       "      <th>650</th>\n",
       "      <td>6</td>\n",
       "      <td>0</td>\n",
       "      <td>5</td>\n",
       "    </tr>\n",
       "    <tr>\n",
       "      <th>986</th>\n",
       "      <td>4</td>\n",
       "      <td>2</td>\n",
       "      <td>12</td>\n",
       "    </tr>\n",
       "    <tr>\n",
       "      <th>1362</th>\n",
       "      <td>3</td>\n",
       "      <td>0</td>\n",
       "      <td>5</td>\n",
       "    </tr>\n",
       "    <tr>\n",
       "      <th>1385</th>\n",
       "      <td>4</td>\n",
       "      <td>0</td>\n",
       "      <td>6</td>\n",
       "    </tr>\n",
       "    <tr>\n",
       "      <th>342</th>\n",
       "      <td>2</td>\n",
       "      <td>0</td>\n",
       "      <td>9</td>\n",
       "    </tr>\n",
       "    <tr>\n",
       "      <th>1634</th>\n",
       "      <td>1</td>\n",
       "      <td>0</td>\n",
       "      <td>11</td>\n",
       "    </tr>\n",
       "    <tr>\n",
       "      <th>1100</th>\n",
       "      <td>5</td>\n",
       "      <td>1</td>\n",
       "      <td>11</td>\n",
       "    </tr>\n",
       "    <tr>\n",
       "      <th>1592</th>\n",
       "      <td>2</td>\n",
       "      <td>0</td>\n",
       "      <td>2</td>\n",
       "    </tr>\n",
       "    <tr>\n",
       "      <th>1454</th>\n",
       "      <td>6</td>\n",
       "      <td>2</td>\n",
       "      <td>5</td>\n",
       "    </tr>\n",
       "    <tr>\n",
       "      <th>790</th>\n",
       "      <td>1</td>\n",
       "      <td>1</td>\n",
       "      <td>3</td>\n",
       "    </tr>\n",
       "    <tr>\n",
       "      <th>1635</th>\n",
       "      <td>1</td>\n",
       "      <td>0</td>\n",
       "      <td>11</td>\n",
       "    </tr>\n",
       "    <tr>\n",
       "      <th>809</th>\n",
       "      <td>5</td>\n",
       "      <td>0</td>\n",
       "      <td>3</td>\n",
       "    </tr>\n",
       "    <tr>\n",
       "      <th>1001</th>\n",
       "      <td>1</td>\n",
       "      <td>2</td>\n",
       "      <td>12</td>\n",
       "    </tr>\n",
       "    <tr>\n",
       "      <th>1415</th>\n",
       "      <td>4</td>\n",
       "      <td>0</td>\n",
       "      <td>11</td>\n",
       "    </tr>\n",
       "    <tr>\n",
       "      <th>582</th>\n",
       "      <td>3</td>\n",
       "      <td>0</td>\n",
       "      <td>6</td>\n",
       "    </tr>\n",
       "    <tr>\n",
       "      <th>990</th>\n",
       "      <td>4</td>\n",
       "      <td>2</td>\n",
       "      <td>12</td>\n",
       "    </tr>\n",
       "    <tr>\n",
       "      <th>75</th>\n",
       "      <td>5</td>\n",
       "      <td>0</td>\n",
       "      <td>1</td>\n",
       "    </tr>\n",
       "    <tr>\n",
       "      <th>1009</th>\n",
       "      <td>5</td>\n",
       "      <td>2</td>\n",
       "      <td>12</td>\n",
       "    </tr>\n",
       "    <tr>\n",
       "      <th>1422</th>\n",
       "      <td>5</td>\n",
       "      <td>2</td>\n",
       "      <td>6</td>\n",
       "    </tr>\n",
       "    <tr>\n",
       "      <th>1418</th>\n",
       "      <td>6</td>\n",
       "      <td>0</td>\n",
       "      <td>9</td>\n",
       "    </tr>\n",
       "    <tr>\n",
       "      <th>1432</th>\n",
       "      <td>2</td>\n",
       "      <td>2</td>\n",
       "      <td>5</td>\n",
       "    </tr>\n",
       "    <tr>\n",
       "      <th>...</th>\n",
       "      <td>...</td>\n",
       "      <td>...</td>\n",
       "      <td>...</td>\n",
       "    </tr>\n",
       "    <tr>\n",
       "      <th>371</th>\n",
       "      <td>4</td>\n",
       "      <td>0</td>\n",
       "      <td>12</td>\n",
       "    </tr>\n",
       "    <tr>\n",
       "      <th>1566</th>\n",
       "      <td>4</td>\n",
       "      <td>0</td>\n",
       "      <td>4</td>\n",
       "    </tr>\n",
       "    <tr>\n",
       "      <th>1175</th>\n",
       "      <td>1</td>\n",
       "      <td>0</td>\n",
       "      <td>11</td>\n",
       "    </tr>\n",
       "    <tr>\n",
       "      <th>1116</th>\n",
       "      <td>1</td>\n",
       "      <td>0</td>\n",
       "      <td>8</td>\n",
       "    </tr>\n",
       "    <tr>\n",
       "      <th>873</th>\n",
       "      <td>5</td>\n",
       "      <td>0</td>\n",
       "      <td>2</td>\n",
       "    </tr>\n",
       "    <tr>\n",
       "      <th>1233</th>\n",
       "      <td>0</td>\n",
       "      <td>0</td>\n",
       "      <td>3</td>\n",
       "    </tr>\n",
       "    <tr>\n",
       "      <th>1360</th>\n",
       "      <td>1</td>\n",
       "      <td>0</td>\n",
       "      <td>7</td>\n",
       "    </tr>\n",
       "    <tr>\n",
       "      <th>1066</th>\n",
       "      <td>6</td>\n",
       "      <td>0</td>\n",
       "      <td>11</td>\n",
       "    </tr>\n",
       "    <tr>\n",
       "      <th>1525</th>\n",
       "      <td>5</td>\n",
       "      <td>0</td>\n",
       "      <td>9</td>\n",
       "    </tr>\n",
       "    <tr>\n",
       "      <th>625</th>\n",
       "      <td>2</td>\n",
       "      <td>0</td>\n",
       "      <td>1</td>\n",
       "    </tr>\n",
       "    <tr>\n",
       "      <th>1520</th>\n",
       "      <td>0</td>\n",
       "      <td>0</td>\n",
       "      <td>10</td>\n",
       "    </tr>\n",
       "    <tr>\n",
       "      <th>1336</th>\n",
       "      <td>1</td>\n",
       "      <td>0</td>\n",
       "      <td>7</td>\n",
       "    </tr>\n",
       "    <tr>\n",
       "      <th>1043</th>\n",
       "      <td>0</td>\n",
       "      <td>0</td>\n",
       "      <td>10</td>\n",
       "    </tr>\n",
       "    <tr>\n",
       "      <th>694</th>\n",
       "      <td>4</td>\n",
       "      <td>0</td>\n",
       "      <td>8</td>\n",
       "    </tr>\n",
       "    <tr>\n",
       "      <th>1548</th>\n",
       "      <td>4</td>\n",
       "      <td>0</td>\n",
       "      <td>4</td>\n",
       "    </tr>\n",
       "    <tr>\n",
       "      <th>1486</th>\n",
       "      <td>0</td>\n",
       "      <td>2</td>\n",
       "      <td>5</td>\n",
       "    </tr>\n",
       "    <tr>\n",
       "      <th>1462</th>\n",
       "      <td>6</td>\n",
       "      <td>2</td>\n",
       "      <td>5</td>\n",
       "    </tr>\n",
       "    <tr>\n",
       "      <th>1036</th>\n",
       "      <td>5</td>\n",
       "      <td>0</td>\n",
       "      <td>12</td>\n",
       "    </tr>\n",
       "    <tr>\n",
       "      <th>905</th>\n",
       "      <td>5</td>\n",
       "      <td>0</td>\n",
       "      <td>1</td>\n",
       "    </tr>\n",
       "    <tr>\n",
       "      <th>1482</th>\n",
       "      <td>0</td>\n",
       "      <td>2</td>\n",
       "      <td>5</td>\n",
       "    </tr>\n",
       "    <tr>\n",
       "      <th>1343</th>\n",
       "      <td>0</td>\n",
       "      <td>0</td>\n",
       "      <td>12</td>\n",
       "    </tr>\n",
       "    <tr>\n",
       "      <th>1472</th>\n",
       "      <td>3</td>\n",
       "      <td>2</td>\n",
       "      <td>5</td>\n",
       "    </tr>\n",
       "    <tr>\n",
       "      <th>1019</th>\n",
       "      <td>4</td>\n",
       "      <td>2</td>\n",
       "      <td>12</td>\n",
       "    </tr>\n",
       "    <tr>\n",
       "      <th>1074</th>\n",
       "      <td>2</td>\n",
       "      <td>0</td>\n",
       "      <td>11</td>\n",
       "    </tr>\n",
       "    <tr>\n",
       "      <th>1399</th>\n",
       "      <td>5</td>\n",
       "      <td>0</td>\n",
       "      <td>6</td>\n",
       "    </tr>\n",
       "    <tr>\n",
       "      <th>984</th>\n",
       "      <td>4</td>\n",
       "      <td>2</td>\n",
       "      <td>12</td>\n",
       "    </tr>\n",
       "    <tr>\n",
       "      <th>1559</th>\n",
       "      <td>5</td>\n",
       "      <td>0</td>\n",
       "      <td>4</td>\n",
       "    </tr>\n",
       "    <tr>\n",
       "      <th>685</th>\n",
       "      <td>2</td>\n",
       "      <td>0</td>\n",
       "      <td>10</td>\n",
       "    </tr>\n",
       "    <tr>\n",
       "      <th>1466</th>\n",
       "      <td>5</td>\n",
       "      <td>2</td>\n",
       "      <td>5</td>\n",
       "    </tr>\n",
       "    <tr>\n",
       "      <th>1114</th>\n",
       "      <td>1</td>\n",
       "      <td>0</td>\n",
       "      <td>8</td>\n",
       "    </tr>\n",
       "  </tbody>\n",
       "</table>\n",
       "<p>62 rows × 3 columns</p>\n",
       "</div>"
      ],
      "text/plain": [
       "      DayOfTheWk  HOLIDAY_FLAG  MonthOfYear\n",
       "#                                          \n",
       "1029           1             0           12\n",
       "577            3             0            6\n",
       "1621           4             0            3\n",
       "698            1             0            7\n",
       "997            1             2           12\n",
       "1169           2             0           10\n",
       "1591           2             0            2\n",
       "956            1             0            3\n",
       "1607           4             0            3\n",
       "650            6             0            5\n",
       "986            4             2           12\n",
       "1362           3             0            5\n",
       "1385           4             0            6\n",
       "342            2             0            9\n",
       "1634           1             0           11\n",
       "1100           5             1           11\n",
       "1592           2             0            2\n",
       "1454           6             2            5\n",
       "790            1             1            3\n",
       "1635           1             0           11\n",
       "809            5             0            3\n",
       "1001           1             2           12\n",
       "1415           4             0           11\n",
       "582            3             0            6\n",
       "990            4             2           12\n",
       "75             5             0            1\n",
       "1009           5             2           12\n",
       "1422           5             2            6\n",
       "1418           6             0            9\n",
       "1432           2             2            5\n",
       "...          ...           ...          ...\n",
       "371            4             0           12\n",
       "1566           4             0            4\n",
       "1175           1             0           11\n",
       "1116           1             0            8\n",
       "873            5             0            2\n",
       "1233           0             0            3\n",
       "1360           1             0            7\n",
       "1066           6             0           11\n",
       "1525           5             0            9\n",
       "625            2             0            1\n",
       "1520           0             0           10\n",
       "1336           1             0            7\n",
       "1043           0             0           10\n",
       "694            4             0            8\n",
       "1548           4             0            4\n",
       "1486           0             2            5\n",
       "1462           6             2            5\n",
       "1036           5             0           12\n",
       "905            5             0            1\n",
       "1482           0             2            5\n",
       "1343           0             0           12\n",
       "1472           3             2            5\n",
       "1019           4             2           12\n",
       "1074           2             0           11\n",
       "1399           5             0            6\n",
       "984            4             2           12\n",
       "1559           5             0            4\n",
       "685            2             0           10\n",
       "1466           5             2            5\n",
       "1114           1             0            8\n",
       "\n",
       "[62 rows x 3 columns]"
      ]
     },
     "execution_count": 52,
     "metadata": {},
     "output_type": "execute_result"
    }
   ],
   "source": [
    "# Checking how X_test \"test data\" looks like\n",
    "X_test"
   ]
  },
  {
   "cell_type": "code",
   "execution_count": 53,
   "metadata": {
    "collapsed": false
   },
   "outputs": [
    {
     "data": {
      "text/plain": [
       "array([0, 0, 0, 0, 0, 0, 0, 0, 0, 0, 0, 0, 0, 0, 0, 0, 0, 0, 0, 0, 0, 0, 0,\n",
       "       0, 0, 0, 0, 0, 0, 0, 0, 0, 0, 0, 0, 0, 0, 0, 0, 0, 0, 0, 0, 0, 0, 0,\n",
       "       0, 0, 0, 0, 0, 0, 0, 0, 0, 0, 0, 0, 0, 0, 0, 0], dtype=int64)"
      ]
     },
     "execution_count": 53,
     "metadata": {},
     "output_type": "execute_result"
    }
   ],
   "source": [
    "# Use this model to predict the test data \n",
    "Predictor.predict(X_test)"
   ]
  },
  {
   "cell_type": "code",
   "execution_count": 54,
   "metadata": {
    "collapsed": false
   },
   "outputs": [
    {
     "data": {
      "text/plain": [
       "True     42\n",
       "False    20\n",
       "Name: Expense_Level, dtype: int64"
      ]
     },
     "execution_count": 54,
     "metadata": {},
     "output_type": "execute_result"
    }
   ],
   "source": [
    "# test how many times my prediction  \"y_test\" MATCHED the correct answer \"Predictor.predict(X_test)\"\n",
    "#assign this to : Prediction = Predictor.predict(X_test)\n",
    "\n",
    "(Predictor.predict(X_test) == y_test).value_counts()"
   ]
  },
  {
   "cell_type": "code",
   "execution_count": 55,
   "metadata": {
    "collapsed": true
   },
   "outputs": [],
   "source": [
    "# Accuracy of 44/62 (or 70%+) is not so bad."
   ]
  },
  {
   "cell_type": "code",
   "execution_count": 56,
   "metadata": {
    "collapsed": false
   },
   "outputs": [
    {
     "name": "stdout",
     "output_type": "stream",
     "text": [
      "0.677419354839\n"
     ]
    }
   ],
   "source": [
    "# To confirm the accuracy of my prediction \"y_test\" against the correct answer \"Y_Predict\"\n",
    "print sklearn.metrics.accuracy_score(y_test, Y_predict)"
   ]
  },
  {
   "cell_type": "code",
   "execution_count": 57,
   "metadata": {
    "collapsed": false
   },
   "outputs": [
    {
     "data": {
      "text/plain": [
       "<matplotlib.axes._subplots.AxesSubplot at 0xe5fa9e8>"
      ]
     },
     "execution_count": 57,
     "metadata": {},
     "output_type": "execute_result"
    },
    {
     "data": {
      "image/png": "[encoded data removed]",
      "text/plain": [
       "<matplotlib.figure.Figure at 0xe642c50>"
      ]
     },
     "metadata": {},
     "output_type": "display_data"
    }
   ],
   "source": [
    "import seaborn\n",
    "seaborn.violinplot(Predictor.predict(X_test),y_test )"
   ]
  },
  {
   "cell_type": "markdown",
   "metadata": {},
   "source": [
    "#### Insight Drawn:\n",
    "* Violin Plot above shows that my model is great at predicting small-time \"0\" Expense-Level type purchases but unable to predict anything beyond that."
   ]
  },
  {
   "cell_type": "markdown",
   "metadata": {},
   "source": [
    "### Testing against \"NULL ACCURACY\", the classifier we have to \"Out-Perform\"\n",
    "* Null accuracy is the accuracy that could be achieved by always predicting the most frequent class. It is a baseline against which you may want to measure your classifier."
   ]
  },
  {
   "cell_type": "code",
   "execution_count": 58,
   "metadata": {
    "collapsed": false
   },
   "outputs": [
    {
     "name": "stdout",
     "output_type": "stream",
     "text": [
      "0.677419354839\n"
     ]
    }
   ],
   "source": [
    "# How accurate is the DummyClassifier on my data?\n",
    "# (Hopefully it was better than your favourite predictor)\n",
    "\n",
    "# import the sklearn.dummy library\n",
    "import sklearn.dummy\n",
    "\n",
    "from sklearn.dummy import DummyClassifier\n",
    "dumb = DummyClassifier(strategy='most_frequent')\n",
    "\n",
    "dumb.fit(X_train, y_train)\n",
    "y_dumb_class = dumb.predict(X_test)\n",
    "print sklearn.metrics.accuracy_score(y_test, y_dumb_class)"
   ]
  },
  {
   "cell_type": "markdown",
   "metadata": {},
   "source": [
    "#### Observation: \n",
    "* My \"75% Training-25% Test\" model and the \"NULL ACCURACY\" classifier have equal ACCURACY SCORES! Need to adjust my train-test split - this time, reduce Training Size to 50% and Test Size to 50%."
   ]
  },
  {
   "cell_type": "code",
   "execution_count": 59,
   "metadata": {
    "collapsed": false
   },
   "outputs": [
    {
     "name": "stdout",
     "output_type": "stream",
     "text": [
      "0.741935483871\n"
     ]
    }
   ],
   "source": [
    "# Splitting the data into 50% Training and 50% Testing sets using train_test_split:\n",
    "(X_train, X_test, y_train, y_test) = train_test_split(X, y, test_size=0.5)\n",
    "\n",
    "# Training a Logistic Reg Predictor on the Training Data\n",
    "Predictor = sklearn.linear_model.LogisticRegression(C=10000000)\n",
    "Predictor.fit(X_train, y_train)\n",
    "Y_predict = Predictor.predict(X_test)\n",
    "\n",
    "# Comparing the accuracy score between y_test (teacher's answer) vs Y_predict (my answer)\n",
    "print sklearn.metrics.accuracy_score(y_test, Y_predict)"
   ]
  },
  {
   "cell_type": "code",
   "execution_count": 60,
   "metadata": {
    "collapsed": false
   },
   "outputs": [
    {
     "name": "stdout",
     "output_type": "stream",
     "text": [
      "0.741935483871\n"
     ]
    }
   ],
   "source": [
    "# \"Null Accuracy\" Test against the 50% Train-50% Test Model\n",
    "dumb.fit(X_train, y_train)\n",
    "y_dumb_class = dumb.predict(X_test)\n",
    "print sklearn.metrics.accuracy_score(y_test, y_dumb_class)"
   ]
  },
  {
   "cell_type": "markdown",
   "metadata": {},
   "source": [
    "#### Observation: \n",
    "* My \"50% Training-50% Test\" model has worse accuracy score than \"NULL ACCURACY\"- now reducing my train size to 40% and test size to 60%."
   ]
  },
  {
   "cell_type": "code",
   "execution_count": 61,
   "metadata": {
    "collapsed": false
   },
   "outputs": [
    {
     "name": "stdout",
     "output_type": "stream",
     "text": [
      "0.711409395973\n"
     ]
    }
   ],
   "source": [
    "# Splitting the data into 40% Training and 60% Testing sets using train_test_split:\n",
    "(X_train, X_test, y_train, y_test) = train_test_split(X, y, test_size=0.60)\n",
    "\n",
    "# Training a Logistic Reg Predictor on the Training Data\n",
    "Predictor = sklearn.linear_model.LogisticRegression(C=1000000)\n",
    "Predictor.fit(X_train, y_train)\n",
    "Y_predict = Predictor.predict(X_test)\n",
    "\n",
    "# Comparing the accuracy score between y_test (teacher's answer) vs Y_predict (my answer)\n",
    "print sklearn.metrics.accuracy_score(y_test, Y_predict)"
   ]
  },
  {
   "cell_type": "code",
   "execution_count": 62,
   "metadata": {
    "collapsed": false
   },
   "outputs": [
    {
     "name": "stdout",
     "output_type": "stream",
     "text": [
      "0.738255033557\n"
     ]
    }
   ],
   "source": [
    "# \"Null Accuracy\" Test against the 40% Train-60% Test Model\n",
    "dumb.fit(X_train, y_train)\n",
    "y_dumb_class = dumb.predict(X_test)\n",
    "print sklearn.metrics.accuracy_score(y_test, y_dumb_class)"
   ]
  },
  {
   "cell_type": "markdown",
   "metadata": {},
   "source": [
    "#### Observation: \n",
    "* My \"40% Training-60% Test\" model has worse accuracy score than \"NULL ACCURACY\"- now using loops to find that \"sweet spot\".."
   ]
  },
  {
   "cell_type": "code",
   "execution_count": 63,
   "metadata": {
    "collapsed": false
   },
   "outputs": [
    {
     "name": "stdout",
     "output_type": "stream",
     "text": [
      "[0.84615384615384615, 0.92000000000000004, 0.73684210526315785, 0.83999999999999997, 0.77419354838709675, 0.73333333333333328, 0.7816091954022989, 0.72999999999999998, 0.7232142857142857, 0.69354838709677424, 0.74452554744525545, 0.6912751677852349, 0.66049382716049387, 0.72413793103448276, 0.68279569892473113, 0.69346733668341709, 0.7345971563981043, 0.5714285714285714, 0.46610169491525422]\n",
      "[0.84615384615384615, 0.92000000000000004, 0.73684210526315785, 0.83999999999999997, 0.77419354838709675, 0.73333333333333328, 0.7816091954022989, 0.77000000000000002, 0.7678571428571429, 0.69354838709677424, 0.76642335766423353, 0.71812080536912748, 0.77160493827160492, 0.74712643678160917, 0.73118279569892475, 0.75879396984924619, 0.7345971563981043, 0.7723214285714286, 0.75423728813559321]\n"
     ]
    }
   ],
   "source": [
    "# Testing for test split values from 5% (i=1) to 95% (i=19).\n",
    "\n",
    "my_scores = []\n",
    "null_scores = []\n",
    "for i in range(1, 20):\n",
    "    j=i*0.05\n",
    "    (X_train, X_test, y_train, y_test) = train_test_split(X, y, test_size=j)\n",
    "    Predictor = sklearn.linear_model.LogisticRegression(C=1000000)\n",
    "    Predictor.fit(X_train, y_train)\n",
    "    Y_predict = Predictor.predict(X_test)\n",
    "    my_scores.append(sklearn.metrics.accuracy_score(y_test, Y_predict))\n",
    "    \n",
    "    dumb.fit(X_train, y_train)\n",
    "    y_dumb_class = dumb.predict(X_test)\n",
    "    null_scores.append(sklearn.metrics.accuracy_score(y_test, y_dumb_class))\n",
    "print my_scores\n",
    "print null_scores"
   ]
  },
  {
   "cell_type": "code",
   "execution_count": 64,
   "metadata": {
    "collapsed": false
   },
   "outputs": [
    {
     "data": {
      "text/plain": [
       "<matplotlib.legend.Legend at 0xeaecf28>"
      ]
     },
     "execution_count": 64,
     "metadata": {},
     "output_type": "execute_result"
    },
    {
     "data": {
      "image/png": "[encoded data removed]",
      "text/plain": [
       "<matplotlib.figure.Figure at 0xc2ab4a8>"
      ]
     },
     "metadata": {},
     "output_type": "display_data"
    }
   ],
   "source": [
    "#plotting to compare my_scores vs null_scores\n",
    "%matplotlib inline\n",
    "import matplotlib\n",
    "(fig,ax) = matplotlib.pyplot.subplots(figsize=(11, 8))\n",
    "ax.scatter(my_scores, null_scores,s=100,\n",
    "           cmap=matplotlib.pyplot.cm.PuRd,\n",
    "           c=my_scores, alpha=0.75, label=\"Accuracy Scores\")\n",
    "ax.set_xlabel(\"My Score\")\n",
    "ax.set_ylabel(\"Null Accuracy Score\")\n",
    "ax.legend(loc='best')"
   ]
  },
  {
   "cell_type": "markdown",
   "metadata": {},
   "source": [
    "#### Conclusion: I guess, the Null Accuracy model will always be at par with my model, if not slightly better. I guess, as far as the real life goes, it is better to be conservative and train with less data and test with more data; afterall, we will never see all the data that we need, at least during the model development timeframe. On the other end of the spectrum, settling for a 5% train -95% test split is probably too risky, because we are not giving the model enough samples to learn. Therefore, given this exhaustive information, I am picking the middle ground and sweet spot of  40% train and 60% test."
   ]
  },
  {
   "cell_type": "code",
   "execution_count": null,
   "metadata": {
    "collapsed": true
   },
   "outputs": [],
   "source": []
  }
 ],
 "metadata": {
  "anaconda-cloud": {},
  "kernelspec": {
   "display_name": "Python [conda root]",
   "language": "python",
   "name": "conda-root-py"
  },
  "language_info": {
   "codemirror_mode": {
    "name": "ipython",
    "version": 2
   },
   "file_extension": ".py",
   "mimetype": "text/x-python",
   "name": "python",
   "nbconvert_exporter": "python",
   "pygments_lexer": "ipython2",
   "version": "2.7.12"
  }
 },
 "nbformat": 4,
 "nbformat_minor": 1
}
